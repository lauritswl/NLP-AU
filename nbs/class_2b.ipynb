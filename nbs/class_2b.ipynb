{
 "cells": [
  {
   "cell_type": "markdown",
   "metadata": {},
   "source": [
    "# Classification\n",
    "\n",
    "## Install packages"
   ]
  },
  {
   "cell_type": "code",
   "execution_count": 1,
   "metadata": {},
   "outputs": [
    {
     "name": "stdout",
     "output_type": "stream",
     "text": [
      "Defaulting to user installation because normal site-packages is not writeable\n",
      "Collecting asent\n",
      "  Downloading asent-0.8.3-py2.py3-none-any.whl.metadata (8.5 kB)\n",
      "Collecting spacy>=3.0.0 (from asent)\n",
      "  Downloading spacy-3.7.6-cp312-cp312-manylinux_2_17_x86_64.manylinux2014_x86_64.whl.metadata (27 kB)\n",
      "Requirement already satisfied: matplotlib>=3.5.0 in /home/ucloud/.local/lib/python3.12/site-packages (from asent) (3.9.2)\n",
      "Requirement already satisfied: contourpy>=1.0.1 in /home/ucloud/.local/lib/python3.12/site-packages (from matplotlib>=3.5.0->asent) (1.3.0)\n",
      "Requirement already satisfied: cycler>=0.10 in /home/ucloud/.local/lib/python3.12/site-packages (from matplotlib>=3.5.0->asent) (0.12.1)\n",
      "Requirement already satisfied: fonttools>=4.22.0 in /home/ucloud/.local/lib/python3.12/site-packages (from matplotlib>=3.5.0->asent) (4.53.1)\n",
      "Requirement already satisfied: kiwisolver>=1.3.1 in /home/ucloud/.local/lib/python3.12/site-packages (from matplotlib>=3.5.0->asent) (1.4.7)\n",
      "Requirement already satisfied: numpy>=1.23 in /home/ucloud/.local/lib/python3.12/site-packages (from matplotlib>=3.5.0->asent) (1.26.4)\n",
      "Requirement already satisfied: packaging>=20.0 in /home/ucloud/.local/lib/python3.12/site-packages (from matplotlib>=3.5.0->asent) (24.1)\n",
      "Requirement already satisfied: pillow>=8 in /home/ucloud/.local/lib/python3.12/site-packages (from matplotlib>=3.5.0->asent) (10.4.0)\n",
      "Requirement already satisfied: pyparsing>=2.3.1 in /usr/lib/python3/dist-packages (from matplotlib>=3.5.0->asent) (3.1.1)\n",
      "Requirement already satisfied: python-dateutil>=2.7 in /home/ucloud/.local/lib/python3.12/site-packages (from matplotlib>=3.5.0->asent) (2.9.0.post0)\n",
      "Collecting spacy-legacy<3.1.0,>=3.0.11 (from spacy>=3.0.0->asent)\n",
      "  Downloading spacy_legacy-3.0.12-py2.py3-none-any.whl.metadata (2.8 kB)\n",
      "Collecting spacy-loggers<2.0.0,>=1.0.0 (from spacy>=3.0.0->asent)\n",
      "  Downloading spacy_loggers-1.0.5-py3-none-any.whl.metadata (23 kB)\n",
      "Collecting murmurhash<1.1.0,>=0.28.0 (from spacy>=3.0.0->asent)\n",
      "  Downloading murmurhash-1.0.10-cp312-cp312-manylinux_2_5_x86_64.manylinux1_x86_64.manylinux_2_17_x86_64.manylinux2014_x86_64.whl.metadata (2.0 kB)\n",
      "Collecting cymem<2.1.0,>=2.0.2 (from spacy>=3.0.0->asent)\n",
      "  Downloading cymem-2.0.8-cp312-cp312-manylinux_2_17_x86_64.manylinux2014_x86_64.whl.metadata (8.4 kB)\n",
      "Collecting preshed<3.1.0,>=3.0.2 (from spacy>=3.0.0->asent)\n",
      "  Downloading preshed-3.0.9-cp312-cp312-manylinux_2_5_x86_64.manylinux1_x86_64.manylinux_2_17_x86_64.manylinux2014_x86_64.whl.metadata (2.2 kB)\n",
      "Collecting thinc<8.3.0,>=8.2.2 (from spacy>=3.0.0->asent)\n",
      "  Downloading thinc-8.2.5-cp312-cp312-manylinux_2_17_x86_64.manylinux2014_x86_64.whl.metadata (15 kB)\n",
      "Collecting wasabi<1.2.0,>=0.9.1 (from spacy>=3.0.0->asent)\n",
      "  Downloading wasabi-1.1.3-py3-none-any.whl.metadata (28 kB)\n",
      "Collecting srsly<3.0.0,>=2.4.3 (from spacy>=3.0.0->asent)\n",
      "  Downloading srsly-2.4.8-cp312-cp312-manylinux_2_17_x86_64.manylinux2014_x86_64.whl.metadata (20 kB)\n",
      "Collecting catalogue<2.1.0,>=2.0.6 (from spacy>=3.0.0->asent)\n",
      "  Downloading catalogue-2.0.10-py3-none-any.whl.metadata (14 kB)\n",
      "Collecting weasel<0.5.0,>=0.1.0 (from spacy>=3.0.0->asent)\n",
      "  Downloading weasel-0.4.1-py3-none-any.whl.metadata (4.6 kB)\n",
      "Collecting typer<1.0.0,>=0.3.0 (from spacy>=3.0.0->asent)\n",
      "  Downloading typer-0.12.5-py3-none-any.whl.metadata (15 kB)\n",
      "Requirement already satisfied: tqdm<5.0.0,>=4.38.0 in /home/ucloud/.local/lib/python3.12/site-packages (from spacy>=3.0.0->asent) (4.66.5)\n",
      "Requirement already satisfied: requests<3.0.0,>=2.13.0 in /home/ucloud/.local/lib/python3.12/site-packages (from spacy>=3.0.0->asent) (2.32.3)\n",
      "Collecting pydantic!=1.8,!=1.8.1,<3.0.0,>=1.7.4 (from spacy>=3.0.0->asent)\n",
      "  Downloading pydantic-2.9.2-py3-none-any.whl.metadata (149 kB)\n",
      "Requirement already satisfied: jinja2 in /home/ucloud/.local/lib/python3.12/site-packages (from spacy>=3.0.0->asent) (3.1.4)\n",
      "Requirement already satisfied: setuptools in /usr/lib/python3/dist-packages (from spacy>=3.0.0->asent) (68.1.2)\n",
      "Collecting langcodes<4.0.0,>=3.2.0 (from spacy>=3.0.0->asent)\n",
      "  Downloading langcodes-3.4.0-py3-none-any.whl.metadata (29 kB)\n",
      "Collecting language-data>=1.2 (from langcodes<4.0.0,>=3.2.0->spacy>=3.0.0->asent)\n",
      "  Downloading language_data-1.2.0-py3-none-any.whl.metadata (4.3 kB)\n",
      "Collecting annotated-types>=0.6.0 (from pydantic!=1.8,!=1.8.1,<3.0.0,>=1.7.4->spacy>=3.0.0->asent)\n",
      "  Downloading annotated_types-0.7.0-py3-none-any.whl.metadata (15 kB)\n",
      "Collecting pydantic-core==2.23.4 (from pydantic!=1.8,!=1.8.1,<3.0.0,>=1.7.4->spacy>=3.0.0->asent)\n",
      "  Downloading pydantic_core-2.23.4-cp312-cp312-manylinux_2_17_x86_64.manylinux2014_x86_64.whl.metadata (6.6 kB)\n",
      "Requirement already satisfied: typing-extensions>=4.6.1 in /home/ucloud/.local/lib/python3.12/site-packages (from pydantic!=1.8,!=1.8.1,<3.0.0,>=1.7.4->spacy>=3.0.0->asent) (4.12.2)\n",
      "Requirement already satisfied: six>=1.5 in /usr/lib/python3/dist-packages (from python-dateutil>=2.7->matplotlib>=3.5.0->asent) (1.16.0)\n",
      "Requirement already satisfied: charset-normalizer<4,>=2 in /home/ucloud/.local/lib/python3.12/site-packages (from requests<3.0.0,>=2.13.0->spacy>=3.0.0->asent) (3.3.2)\n",
      "Requirement already satisfied: idna<4,>=2.5 in /home/ucloud/.local/lib/python3.12/site-packages (from requests<3.0.0,>=2.13.0->spacy>=3.0.0->asent) (3.8)\n",
      "Requirement already satisfied: urllib3<3,>=1.21.1 in /home/ucloud/.local/lib/python3.12/site-packages (from requests<3.0.0,>=2.13.0->spacy>=3.0.0->asent) (2.2.2)\n",
      "Requirement already satisfied: certifi>=2017.4.17 in /home/ucloud/.local/lib/python3.12/site-packages (from requests<3.0.0,>=2.13.0->spacy>=3.0.0->asent) (2024.7.4)\n",
      "Collecting blis<0.8.0,>=0.7.8 (from thinc<8.3.0,>=8.2.2->spacy>=3.0.0->asent)\n",
      "  Downloading blis-0.7.11-cp312-cp312-manylinux_2_17_x86_64.manylinux2014_x86_64.whl.metadata (7.4 kB)\n",
      "Collecting confection<1.0.0,>=0.0.1 (from thinc<8.3.0,>=8.2.2->spacy>=3.0.0->asent)\n",
      "  Downloading confection-0.1.5-py3-none-any.whl.metadata (19 kB)\n",
      "Requirement already satisfied: click>=8.0.0 in /usr/lib/python3/dist-packages (from typer<1.0.0,>=0.3.0->spacy>=3.0.0->asent) (8.1.6)\n",
      "Collecting shellingham>=1.3.0 (from typer<1.0.0,>=0.3.0->spacy>=3.0.0->asent)\n",
      "  Downloading shellingham-1.5.4-py2.py3-none-any.whl.metadata (3.5 kB)\n",
      "Collecting rich>=10.11.0 (from typer<1.0.0,>=0.3.0->spacy>=3.0.0->asent)\n",
      "  Downloading rich-13.8.1-py3-none-any.whl.metadata (18 kB)\n",
      "Collecting cloudpathlib<1.0.0,>=0.7.0 (from weasel<0.5.0,>=0.1.0->spacy>=3.0.0->asent)\n",
      "  Downloading cloudpathlib-0.19.0-py3-none-any.whl.metadata (14 kB)\n",
      "Requirement already satisfied: smart-open<8.0.0,>=5.2.1 in /home/ucloud/.local/lib/python3.12/site-packages (from weasel<0.5.0,>=0.1.0->spacy>=3.0.0->asent) (7.0.4)\n",
      "Requirement already satisfied: MarkupSafe>=2.0 in /home/ucloud/.local/lib/python3.12/site-packages (from jinja2->spacy>=3.0.0->asent) (2.1.5)\n",
      "Collecting marisa-trie>=0.7.7 (from language-data>=1.2->langcodes<4.0.0,>=3.2.0->spacy>=3.0.0->asent)\n",
      "  Downloading marisa_trie-1.2.0-cp312-cp312-manylinux_2_17_x86_64.manylinux2014_x86_64.whl.metadata (8.7 kB)\n",
      "Collecting markdown-it-py>=2.2.0 (from rich>=10.11.0->typer<1.0.0,>=0.3.0->spacy>=3.0.0->asent)\n",
      "  Downloading markdown_it_py-3.0.0-py3-none-any.whl.metadata (6.9 kB)\n",
      "Requirement already satisfied: pygments<3.0.0,>=2.13.0 in /home/ucloud/.local/lib/python3.12/site-packages (from rich>=10.11.0->typer<1.0.0,>=0.3.0->spacy>=3.0.0->asent) (2.18.0)\n",
      "Requirement already satisfied: wrapt in /home/ucloud/.local/lib/python3.12/site-packages (from smart-open<8.0.0,>=5.2.1->weasel<0.5.0,>=0.1.0->spacy>=3.0.0->asent) (1.16.0)\n",
      "Collecting mdurl~=0.1 (from markdown-it-py>=2.2.0->rich>=10.11.0->typer<1.0.0,>=0.3.0->spacy>=3.0.0->asent)\n",
      "  Downloading mdurl-0.1.2-py3-none-any.whl.metadata (1.6 kB)\n",
      "Downloading asent-0.8.3-py2.py3-none-any.whl (1.0 MB)\n",
      "\u001b[2K   \u001b[90m━━━━━━━━━━━━━━━━━━━━━━━━━━━━━━━━━━━━━━━━\u001b[0m \u001b[32m1.0/1.0 MB\u001b[0m \u001b[31m5.6 MB/s\u001b[0m eta \u001b[36m0:00:00\u001b[0m\n",
      "\u001b[?25hDownloading spacy-3.7.6-cp312-cp312-manylinux_2_17_x86_64.manylinux2014_x86_64.whl (31.7 MB)\n",
      "\u001b[2K   \u001b[90m━━━━━━━━━━━━━━━━━━━━━━━━━━━━━━━━━━━━━━━━\u001b[0m \u001b[32m31.7/31.7 MB\u001b[0m \u001b[31m31.1 MB/s\u001b[0m eta \u001b[36m0:00:00\u001b[0m:00:01\u001b[0m00:01\u001b[0m\n",
      "\u001b[?25hDownloading catalogue-2.0.10-py3-none-any.whl (17 kB)\n",
      "Downloading cymem-2.0.8-cp312-cp312-manylinux_2_17_x86_64.manylinux2014_x86_64.whl (46 kB)\n",
      "Downloading langcodes-3.4.0-py3-none-any.whl (182 kB)\n",
      "Downloading murmurhash-1.0.10-cp312-cp312-manylinux_2_5_x86_64.manylinux1_x86_64.manylinux_2_17_x86_64.manylinux2014_x86_64.whl (29 kB)\n",
      "Downloading preshed-3.0.9-cp312-cp312-manylinux_2_5_x86_64.manylinux1_x86_64.manylinux_2_17_x86_64.manylinux2014_x86_64.whl (156 kB)\n",
      "Downloading pydantic-2.9.2-py3-none-any.whl (434 kB)\n",
      "Downloading pydantic_core-2.23.4-cp312-cp312-manylinux_2_17_x86_64.manylinux2014_x86_64.whl (2.1 MB)\n",
      "\u001b[2K   \u001b[90m━━━━━━━━━━━━━━━━━━━━━━━━━━━━━━━━━━━━━━━━\u001b[0m \u001b[32m2.1/2.1 MB\u001b[0m \u001b[31m15.6 MB/s\u001b[0m eta \u001b[36m0:00:00\u001b[0m\n",
      "\u001b[?25hDownloading spacy_legacy-3.0.12-py2.py3-none-any.whl (29 kB)\n",
      "Downloading spacy_loggers-1.0.5-py3-none-any.whl (22 kB)\n",
      "Downloading srsly-2.4.8-cp312-cp312-manylinux_2_17_x86_64.manylinux2014_x86_64.whl (491 kB)\n",
      "Downloading thinc-8.2.5-cp312-cp312-manylinux_2_17_x86_64.manylinux2014_x86_64.whl (865 kB)\n",
      "\u001b[2K   \u001b[90m━━━━━━━━━━━━━━━━━━━━━━━━━━━━━━━━━━━━━━━━\u001b[0m \u001b[32m865.0/865.0 kB\u001b[0m \u001b[31m5.1 MB/s\u001b[0m eta \u001b[36m0:00:00\u001b[0m\n",
      "\u001b[?25hDownloading typer-0.12.5-py3-none-any.whl (47 kB)\n",
      "Downloading wasabi-1.1.3-py3-none-any.whl (27 kB)\n",
      "Downloading weasel-0.4.1-py3-none-any.whl (50 kB)\n",
      "Downloading annotated_types-0.7.0-py3-none-any.whl (13 kB)\n",
      "Downloading blis-0.7.11-cp312-cp312-manylinux_2_17_x86_64.manylinux2014_x86_64.whl (10.2 MB)\n",
      "\u001b[2K   \u001b[90m━━━━━━━━━━━━━━━━━━━━━━━━━━━━━━━━━━━━━━━━\u001b[0m \u001b[32m10.2/10.2 MB\u001b[0m \u001b[31m35.5 MB/s\u001b[0m eta \u001b[36m0:00:00\u001b[0m:00:01\u001b[0m\n",
      "\u001b[?25hDownloading cloudpathlib-0.19.0-py3-none-any.whl (49 kB)\n",
      "Downloading confection-0.1.5-py3-none-any.whl (35 kB)\n",
      "Downloading language_data-1.2.0-py3-none-any.whl (5.4 MB)\n",
      "\u001b[2K   \u001b[90m━━━━━━━━━━━━━━━━━━━━━━━━━━━━━━━━━━━━━━━━\u001b[0m \u001b[32m5.4/5.4 MB\u001b[0m \u001b[31m28.8 MB/s\u001b[0m eta \u001b[36m0:00:00\u001b[0m\n",
      "\u001b[?25hDownloading rich-13.8.1-py3-none-any.whl (241 kB)\n",
      "Downloading shellingham-1.5.4-py2.py3-none-any.whl (9.8 kB)\n",
      "Downloading marisa_trie-1.2.0-cp312-cp312-manylinux_2_17_x86_64.manylinux2014_x86_64.whl (1.4 MB)\n",
      "\u001b[2K   \u001b[90m━━━━━━━━━━━━━━━━━━━━━━━━━━━━━━━━━━━━━━━━\u001b[0m \u001b[32m1.4/1.4 MB\u001b[0m \u001b[31m12.8 MB/s\u001b[0m eta \u001b[36m0:00:00\u001b[0m\n",
      "\u001b[?25hDownloading markdown_it_py-3.0.0-py3-none-any.whl (87 kB)\n",
      "Downloading mdurl-0.1.2-py3-none-any.whl (10.0 kB)\n",
      "Installing collected packages: cymem, wasabi, spacy-loggers, spacy-legacy, shellingham, pydantic-core, murmurhash, mdurl, marisa-trie, cloudpathlib, catalogue, blis, annotated-types, srsly, pydantic, preshed, markdown-it-py, language-data, rich, langcodes, confection, typer, thinc, weasel, spacy, asent\n",
      "Successfully installed annotated-types-0.7.0 asent-0.8.3 blis-0.7.11 catalogue-2.0.10 cloudpathlib-0.19.0 confection-0.1.5 cymem-2.0.8 langcodes-3.4.0 language-data-1.2.0 marisa-trie-1.2.0 markdown-it-py-3.0.0 mdurl-0.1.2 murmurhash-1.0.10 preshed-3.0.9 pydantic-2.9.2 pydantic-core-2.23.4 rich-13.8.1 shellingham-1.5.4 spacy-3.7.6 spacy-legacy-3.0.12 spacy-loggers-1.0.5 srsly-2.4.8 thinc-8.2.5 typer-0.12.5 wasabi-1.1.3 weasel-0.4.1\n",
      "Defaulting to user installation because normal site-packages is not writeable\n",
      "Collecting pandas\n",
      "  Downloading pandas-2.2.2-cp312-cp312-manylinux_2_17_x86_64.manylinux2014_x86_64.whl.metadata (19 kB)\n",
      "Requirement already satisfied: numpy>=1.26.0 in /home/ucloud/.local/lib/python3.12/site-packages (from pandas) (1.26.4)\n",
      "Requirement already satisfied: python-dateutil>=2.8.2 in /home/ucloud/.local/lib/python3.12/site-packages (from pandas) (2.9.0.post0)\n",
      "Collecting pytz>=2020.1 (from pandas)\n",
      "  Downloading pytz-2024.2-py2.py3-none-any.whl.metadata (22 kB)\n",
      "Collecting tzdata>=2022.7 (from pandas)\n",
      "  Downloading tzdata-2024.1-py2.py3-none-any.whl.metadata (1.4 kB)\n",
      "Requirement already satisfied: six>=1.5 in /usr/lib/python3/dist-packages (from python-dateutil>=2.8.2->pandas) (1.16.0)\n",
      "Downloading pandas-2.2.2-cp312-cp312-manylinux_2_17_x86_64.manylinux2014_x86_64.whl (12.7 MB)\n",
      "\u001b[2K   \u001b[90m━━━━━━━━━━━━━━━━━━━━━━━━━━━━━━━━━━━━━━━━\u001b[0m \u001b[32m12.7/12.7 MB\u001b[0m \u001b[31m28.0 MB/s\u001b[0m eta \u001b[36m0:00:00\u001b[0m:00:01\u001b[0m\n",
      "\u001b[?25hDownloading pytz-2024.2-py2.py3-none-any.whl (508 kB)\n",
      "Downloading tzdata-2024.1-py2.py3-none-any.whl (345 kB)\n",
      "Installing collected packages: pytz, tzdata, pandas\n",
      "Successfully installed pandas-2.2.2 pytz-2024.2 tzdata-2024.1\n",
      "Defaulting to user installation because normal site-packages is not writeable\n",
      "Requirement already satisfied: numpy in /home/ucloud/.local/lib/python3.12/site-packages (1.26.4)\n",
      "Defaulting to user installation because normal site-packages is not writeable\n",
      "Collecting sklearn\n",
      "  Downloading sklearn-0.0.post12.tar.gz (2.6 kB)\n",
      "  Preparing metadata (setup.py) ... \u001b[?25lerror\n",
      "  \u001b[1;31merror\u001b[0m: \u001b[1msubprocess-exited-with-error\u001b[0m\n",
      "  \n",
      "  \u001b[31m×\u001b[0m \u001b[32mpython setup.py egg_info\u001b[0m did not run successfully.\n",
      "  \u001b[31m│\u001b[0m exit code: \u001b[1;36m1\u001b[0m\n",
      "  \u001b[31m╰─>\u001b[0m \u001b[31m[15 lines of output]\u001b[0m\n",
      "  \u001b[31m   \u001b[0m The 'sklearn' PyPI package is deprecated, use 'scikit-learn'\n",
      "  \u001b[31m   \u001b[0m rather than 'sklearn' for pip commands.\n",
      "  \u001b[31m   \u001b[0m \n",
      "  \u001b[31m   \u001b[0m Here is how to fix this error in the main use cases:\n",
      "  \u001b[31m   \u001b[0m - use 'pip install scikit-learn' rather than 'pip install sklearn'\n",
      "  \u001b[31m   \u001b[0m - replace 'sklearn' by 'scikit-learn' in your pip requirements files\n",
      "  \u001b[31m   \u001b[0m   (requirements.txt, setup.py, setup.cfg, Pipfile, etc ...)\n",
      "  \u001b[31m   \u001b[0m - if the 'sklearn' package is used by one of your dependencies,\n",
      "  \u001b[31m   \u001b[0m   it would be great if you take some time to track which package uses\n",
      "  \u001b[31m   \u001b[0m   'sklearn' instead of 'scikit-learn' and report it to their issue tracker\n",
      "  \u001b[31m   \u001b[0m - as a last resort, set the environment variable\n",
      "  \u001b[31m   \u001b[0m   SKLEARN_ALLOW_DEPRECATED_SKLEARN_PACKAGE_INSTALL=True to avoid this error\n",
      "  \u001b[31m   \u001b[0m \n",
      "  \u001b[31m   \u001b[0m More information is available at\n",
      "  \u001b[31m   \u001b[0m https://github.com/scikit-learn/sklearn-pypi-package\n",
      "  \u001b[31m   \u001b[0m \u001b[31m[end of output]\u001b[0m\n",
      "  \n",
      "  \u001b[1;35mnote\u001b[0m: This error originates from a subprocess, and is likely not a problem with pip.\n",
      "\u001b[?25h\u001b[1;31merror\u001b[0m: \u001b[1mmetadata-generation-failed\u001b[0m\n",
      "\n",
      "\u001b[31m×\u001b[0m Encountered error while generating package metadata.\n",
      "\u001b[31m╰─>\u001b[0m See above for output.\n",
      "\n",
      "\u001b[1;35mnote\u001b[0m: This is an issue with the package mentioned above, not pip.\n",
      "\u001b[1;36mhint\u001b[0m: See above for details.\n",
      "Defaulting to user installation because normal site-packages is not writeable\n",
      "Requirement already satisfied: gensim in /home/ucloud/.local/lib/python3.12/site-packages (4.3.3)\n",
      "Requirement already satisfied: numpy<2.0,>=1.18.5 in /home/ucloud/.local/lib/python3.12/site-packages (from gensim) (1.26.4)\n",
      "Requirement already satisfied: scipy<1.14.0,>=1.7.0 in /home/ucloud/.local/lib/python3.12/site-packages (from gensim) (1.13.1)\n",
      "Requirement already satisfied: smart-open>=1.8.1 in /home/ucloud/.local/lib/python3.12/site-packages (from gensim) (7.0.4)\n",
      "Requirement already satisfied: wrapt in /home/ucloud/.local/lib/python3.12/site-packages (from smart-open>=1.8.1->gensim) (1.16.0)\n"
     ]
    }
   ],
   "source": [
    "!pip install asent\n",
    "!pip install pandas\n",
    "!pip install numpy\n",
    "!pip install sklearn\n",
    "!pip install gensim"
   ]
  },
  {
   "cell_type": "markdown",
   "metadata": {},
   "source": [
    "## Import packages"
   ]
  },
  {
   "cell_type": "code",
   "execution_count": 2,
   "metadata": {},
   "outputs": [],
   "source": [
    "from asent import lexicons\n",
    "import pandas as pd\n",
    "import numpy as np\n",
    "from sklearn.model_selection import train_test_split\n",
    "import gensim.downloader\n",
    "from sklearn.linear_model import LogisticRegression"
   ]
  },
  {
   "cell_type": "markdown",
   "metadata": {},
   "source": [
    "## Load and split data\n",
    "\n",
    "The data is loaded using the [```asent```](\"https://github.com/KennethEnevoldsen/asent\") package. It contains 7504 words and a continuous sentiment label which is constructed by [two annotaters](\"https://ojs.aaai.org/index.php/ICWSM/article/view/14550\").\n",
    "\n",
    "I have split the data into a training and a test set containing 80% and 20% of the data, respectively. It is important that we all use the same random state, to ensure we get the same split. That way, we can compare our models on the held-out test set next week."
   ]
  },
  {
   "cell_type": "code",
   "execution_count": 3,
   "metadata": {},
   "outputs": [],
   "source": [
    "lex = pd.DataFrame(lexicons.get(\"lexicon_en_v1\").items(), columns=[\"word\", \"sentiment\"])\n",
    "\n",
    "train, test = train_test_split(lex, test_size=0.2, random_state=42)"
   ]
  },
  {
   "cell_type": "markdown",
   "metadata": {},
   "source": [
    "## Preprocessing and feature generation\n",
    "\n",
    "To make the task a bit simpler, we binarise the sentiment label. We consider all words with a sentiment score above 0 as positive (1) and all words with a sentiment score below 0 as negative (0)."
   ]
  },
  {
   "cell_type": "code",
   "execution_count": 4,
   "metadata": {},
   "outputs": [
    {
     "name": "stdout",
     "output_type": "stream",
     "text": [
      "4921    1.5\n",
      "4591    1.3\n",
      "3647    2.8\n",
      "2948    0.8\n",
      "2513    0.6\n",
      "       ... \n",
      "5191   -2.8\n",
      "5226    2.4\n",
      "5390    1.6\n",
      "860     1.4\n",
      "7270    0.1\n",
      "Name: sentiment, Length: 6003, dtype: float64\n"
     ]
    }
   ],
   "source": [
    "y = [1 if x>0 else 0 for x in train[\"sentiment\"]]"
   ]
  },
  {
   "cell_type": "code",
   "execution_count": 5,
   "metadata": {},
   "outputs": [
    {
     "name": "stdout",
     "output_type": "stream",
     "text": [
      "[1.5, 1.3, 2.8, 0.8, 0.6, 0.1, -2.1, 0.5, -1.0, 2.2, 2.3, 3.0, -1.9, 2.1, -1.9, -0.1, -0.9, -1.6, -1.8, 2.4, -2.8, 1.4, -2.1, -1.9, -1.0, -3.4, 1.3, -1.6, 0.3, -2.1, -1.2, -1.5, 1.1, 2.8, 1.6, -1.7, -2.3, 0.8, 0.1, -2.8, -2.3, -1.6, -0.9, -1.0, 1.9, 1.5, 1.9, -1.6, 2.6, 2.6, -0.8, -1.6, -2.1, 2.2, -0.5, 3.1, 1.8, 1.6, 0.7, 0.3, -0.2, -1.3, -2.4, -0.8, -1.2, -2.6, 1.8, -0.9, 1.8, -1.1, -2.2, 1.5, 2.8, -1.2, -1.5, -1.2, 2.9, 1.6, 0.4, -2.2, -1.2, 1.3, 2.2, 1.9, 2.3, -2.7, 2.2, -1.2, -1.2, 0.2, -1.8, -2.9, -1.6, -1.7, 0.5, 2.1, 1.6, 2.5, 1.4, 0.5, 0.9, 0.8, -0.1, 1.8, -0.9, -2.1, -3.1, -2.0, -2.4, 0.6, 1.3, 1.6, 0.9, 1.8, -2.1, 1.9, 1.6, -1.8, 1.2, -1.2, -1.6, -1.6, -1.0, -2.2, 2.0, -0.2, -1.4, 2.0, -1.3, 1.7, -1.9, -1.9, 2.2, -1.0, -1.6, -1.1, 0.1, 1.1, 1.7, -2.0, 1.2, -1.7, 2.7, -0.5, -0.9, -1.5, 1.6, 1.1, -1.3, -2.7, 1.2, 2.2, -0.4, -1.2, -0.8, -2.1, 1.4, 1.1, -1.3, -2.0, 1.3, -1.2, 1.3, 0.2, -0.7, -2.1, -1.6, 1.0, -1.9, -1.0, 1.9, 1.6, -1.2, 0.1, 1.5, -1.9, -0.9, 1.5, -2.0, -2.3, -1.3, 2.4, -1.4, -1.3, 2.2, 2.8, 2.0, -1.4, 2.0, -2.8, -1.9, 1.8, -1.2, -0.7, -0.8, -2.3, -1.3, 2.1, -2.0, -1.4, 2.5, 2.6, 1.3, -0.1, -1.4, 0.7, -0.2, 0.5, 2.9, -2.4, 1.2, 3.1, -2.4, -1.8, 0.5, -0.9, -1.0, -1.7, 2.1, 1.4, 1.3, -1.7, -1.9, 2.3, -1.2, -2.2, -1.6, -1.4, -2.3, -1.9, -2.7, 0.3, 2.1, 1.6, -1.8, 0.9, -3.1, -0.2, -1.2, -1.9, 0.5, -0.2, 1.6, 2.2, -1.0, -1.3, 0.9, -0.8, 2.2, -2.6, -0.8, 1.6, 2.2, -1.4, -0.9, -1.4, -0.6, 1.8, 1.8, -1.5, -1.6, 2.0, -0.4, -1.9, -2.4, 2.8, 2.4, -0.4, -2.3, -0.8, 1.6, 1.5, 2.3, 1.6, 0.6, 1.2, -1.4, 1.8, 1.7, 1.0, -1.4, -1.3, -2.0, 1.0, -0.7, 0.9, -1.6, 0.4, 1.9, 1.5, -1.7, 0.8, -0.3, -1.1, -1.2, -2.4, -2.7, -0.3, 0.5, 2.1, 1.6, -2.2, -1.8, 2.4, -2.9, -2.1, 2.1, 2.6, 1.4, -2.3, 2.0, -1.6, -1.2, 1.2, 0.5, 1.5, 1.7, 1.6, 1.5, -1.9, 0.3, -2.3, 2.3, -1.3, -2.6, 2.2, 1.1, -0.8, 2.4, -1.6, -1.8, 2.0, 1.8, -1.2, -1.5, -0.8, 1.3, 2.5, 1.2, -0.9, 1.3, -2.3, -1.7, -1.2, -1.2, 1.7, -2.9, -0.4, -1.7, -2.7, -1.4, -1.5, 2.9, 1.6, -1.8, -1.7, -2.2, -1.3, -1.8, -1.8, 1.0, 1.3, 1.4, -0.6, 2.7, -1.5, -2.2, -0.7, -1.4, -1.8, 3.0, 2.6, -0.1, 2.7, -0.8, -0.8, -1.0, 2.6, 0.1, 1.3, -1.3, -0.4, -0.7, -0.7, -2.5, 2.9, 1.5, 0.1, 1.9, -1.9, -2.3, 1.9, -1.3, 2.4, -1.1, -1.3, 2.9, 1.6, -1.9, 1.2, -1.1, 1.7, 0.6, -0.6, 2.2, -1.0, 1.8, 1.2, -2.6, -2.7, -1.1, -3.0, 0.8, -1.7, -2.0, -0.9, -0.9, 1.7, 1.0, -1.1, 2.2, 1.6, 2.0, -1.7, -1.7, -1.1, -1.2, 0.9, -1.8, -1.6, -0.6, -1.4, -2.3, -2.2, -1.7, -2.3, -1.7, 1.1, 2.1, -2.5, -2.5, -2.2, -1.0, -3.1, -1.4, -2.0, -1.7, 1.3, -1.8, 0.3, -2.5, -0.4, 2.8, 1.7, -2.2, -1.2, 1.7, 0.3, -1.2, 1.6, -0.5, 3.0, -0.5, 2.0, -2.5, -1.7, -0.7, 2.3, -1.0, 0.9, -1.5, -2.0, 1.1, 1.1, 2.9, 1.5, 2.1, 1.7, 1.7, -0.4, 1.7, -0.9, 2.1, 3.0, 0.1, 1.7, 2.1, -0.8, -1.5, -0.2, 1.0, 0.4, 1.6, 0.8, 1.0, 1.9, 2.3, -2.2, 2.3, -0.8, -0.9, 2.6, -1.2, 2.6, -1.2, -1.6, -1.5, 0.8, 2.0, 1.8, 1.6, 1.8, 0.9, -2.9, 2.0, -2.2, -0.7, -2.2, 0.4, -2.8, -1.2, -2.2, 1.4, -2.2, -2.3, -3.5, 1.1, -1.4, 1.7, -0.1, -1.1, 1.8, -0.5, -2.9, -0.3, 2.4, -1.3, -2.9, 2.3, -3.0, 0.5, 0.1, 0.2, -2.8, -2.1, -2.4, 1.7, -1.8, -1.9, 2.3, 2.7, 1.7, -1.0, -1.3, 2.3, -0.7, -1.7, 1.3, 0.6, 1.0, -2.4, -0.8, 1.3, -2.3, -1.3, -1.8, -1.9, 2.2, -1.1, 1.9, -1.8, 2.1, -3.2, -1.1, 0.6, 2.0, -1.6, -1.1, -1.2, 2.0, 0.7, -1.1, -1.2, 1.9, 1.2, -1.2, 1.0, 2.4, -1.4, 3.0, 1.0, -0.2, 1.6, 1.3, -1.0, 1.4, 2.0, 1.9, -2.2, 0.8, 3.2, 0.3, 1.8, -0.6, -0.6, -0.5, 1.4, -1.3, 0.6, -1.0, 3.4, 1.4, -2.0, -2.4, 1.9, -2.4, -1.0, -0.9, 0.5, -0.8, 0.1, 0.3, -0.4, -1.4, 1.3, -1.1, -2.3, 2.3, 2.2, 1.0, -1.5, 0.6, -0.7, 1.5, -0.1, 2.2, 2.3, -2.8, -1.5, 2.1, 1.5, 1.2, -1.8, 1.6, -2.4, -1.1, 2.1, 0.2, -1.9, -0.4, 1.7, -1.6, 0.6, -2.6, -1.4, 3.1, 2.5, -2.0, -1.5, -0.6, -1.7, -1.4, 1.4, -1.9, 2.5, -1.5, -2.6, -0.6, 2.4, 2.1, -2.4, -1.9, -1.3, 0.3, -1.1, 2.3, -0.1, -0.4, 2.2, -3.8, 2.3, 0.2, 1.6, -1.9, -1.2, -1.0, 1.5, 0.6, 2.7, -1.7, 1.9, -2.1, 0.8, 1.9, -1.6, 1.7, -1.5, -1.9, 2.4, 1.8, 2.2, -2.3, -0.7, -1.6, 0.8, -1.7, 1.7, -2.9, -1.3, 1.3, 2.5, -2.1, -2.7, -1.1, -2.0, -2.2, 2.1, 0.9, -0.7, 1.5, 2.3, 2.0, -0.5, 2.4, -1.9, -1.1, -1.4, 1.2, -0.2, 1.6, -2.3, 2.7, -2.5, -2.0, 0.2, 1.6, -1.3, -3.0, -2.4, 0.2, 1.3, 2.2, -1.4, -0.5, -0.3, -1.0, 2.2, 2.0, -2.5, 1.4, -1.2, 2.0, 2.4, 2.6, -2.9, 1.0, 2.1, 1.5, 2.0, 1.8, -0.5, -0.9, 0.7, -2.3, 2.0, -3.2, 1.6, 1.5, -0.4, 2.1, 1.1, -2.7, -1.8, -1.2, -1.1, -2.6, 0.6, 0.8, 1.9, 1.3, -1.5, -0.6, 2.0, -2.5, 2.1, -2.9, -0.8, -1.4, 0.8, -2.1, 1.3, 1.9, -2.2, 0.4, -1.8, -0.9, -2.4, -2.1, 1.3, 1.7, 1.2, 0.9, -1.0, 2.5, -0.1, -0.2, 1.1, 1.1, 0.3, 1.1, -1.1, 1.6, -2.3, 2.1, 0.7, 0.3, 2.4, -2.2, 2.5, -1.0, 2.0, -1.4, -1.4, 2.1, -2.8, -1.2, 1.8, -2.6, -1.3, -1.8, -3.5, 2.1, -0.8, -0.5, -1.2, -2.0, -0.7, -1.5, -2.2, 1.5, -2.5, 1.3, 2.1, -2.5, -1.6, -0.3, 1.0, 0.4, -2.6, -1.7, 1.5, -0.5, -1.8, 3.0, 2.2, 3.0, 0.7, -1.8, 1.9, 1.5, -1.7, 0.5, 1.0, 2.5, -2.2, -0.6, -0.8, -2.3, -1.1, 1.9, 0.8, 1.0, 0.1, -0.8, -2.7, 0.8, -2.5, -2.0, -1.4, -2.0, -2.8, -2.9, -0.2, -0.3, 1.4, 0.4, 0.8, 0.6, -2.2, -1.2, 1.8, -1.2, -1.2, 0.6, 1.7, 0.4, -2.5, 2.4, 0.3, -0.3, -2.1, -1.4, -1.9, 0.3, -0.9, 1.9, -0.8, -2.3, -1.8, -1.7, -2.2, -0.3, -1.9, 2.2, 2.7, 2.9, -1.9, 1.7, 1.6, 1.5, -1.4, 1.9, 1.6, 2.9, -0.4, -2.5, 1.9, -1.3, -2.1, -2.5, -1.1, -3.4, 1.9, -1.5, 0.7, 1.1, 2.3, 2.3, 2.0, -2.3, 1.3, -2.6, -1.1, 1.8, 1.4, 2.2, -2.4, -3.1, -1.7, 2.8, -0.8, 1.5, 1.6, -1.6, 1.9, 0.7, 0.3, -2.0, 1.4, -0.4, 0.3, 2.1, 1.3, 1.1, 1.4, -2.5, -0.6, 0.8, 2.4, 0.8, -1.5, -0.1, 0.4, 0.3, 1.7, 0.4, -1.8, 1.8, -1.9, -1.3, -0.4, 2.7, -3.2, -1.8, -3.3, 0.7, 1.8, 1.7, -0.9, -2.2, -1.3, 0.4, -1.1, 2.2, 0.5, -1.2, 2.2, -0.3, 1.6, -1.2, 2.6, 2.6, 0.8, 2.9, -1.4, -0.8, -0.1, -2.0, 1.9, -1.9, 1.4, -1.5, -0.9, -1.0, -1.4, -1.4, -0.6, -1.4, 1.7, 2.2, -2.1, 1.9, -2.0, -1.0, -2.1, -2.0, -2.2, 1.3, 2.6, -1.2, 0.3, -3.0, 0.2, 2.9, -0.9, -0.9, -0.9, -3.2, 1.8, 2.7, 1.1, -1.5, -0.4, -1.8, -1.5, -0.9, 1.6, 1.8, 1.2, -0.8, -3.6, -0.9, -1.7, 0.9, 0.9, 1.6, -2.3, 0.7, -0.2, -2.1, -1.8, 0.5, 1.3, 1.6, -1.9, -1.4, 0.5, 1.1, -1.5, -2.0, -0.1, -2.7, -2.7, -0.5, 1.8, -1.2, -2.1, 1.4, 2.2, -1.6, 1.4, 1.4, 1.1, 0.3, 1.1, -1.4, -2.0, -1.4, 2.5, -0.9, -1.7, -0.4, -2.8, -1.6, -1.0, -1.3, -1.7, 1.0, -0.9, -1.5, -1.7, 1.8, 2.2, 1.2, 1.3, 1.8, 0.3, -1.9, -2.2, -1.5, -1.6, -1.3, -1.5, -0.5, -2.2, 1.8, 1.1, -1.7, 0.7, 2.8, 2.1, 1.8, -2.4, 1.2, -0.8, -1.4, 1.5, 0.6, -2.0, -2.3, 3.2, -2.4, -1.8, 0.1, -0.9, -1.6, -0.6, -1.4, 0.2, 2.0, -1.6, -1.9, 1.3, -1.3, -1.4, -1.1, 2.0, 2.5, 2.0, -2.9, -0.1, -1.2, -1.5, -1.5, 2.1, -2.0, -3.1, -1.4, 2.1, 1.6, -0.6, 1.3, -1.1, -2.0, -2.3, 2.8, 2.1, -0.5, -1.8, 1.9, 0.8, -2.4, 2.8, 1.8, -0.5, 2.0, -0.3, -2.6, 1.5, -2.4, -1.3, -0.5, 1.3, 2.4, -1.5, 1.3, -2.0, 2.2, -1.7, -2.1, -1.7, -1.9, -0.7, 0.1, 1.8, 0.7, -0.8, -1.1, 1.2, 2.2, -0.1, -0.6, 1.3, -1.1, -1.9, -1.6, -0.3, 1.4, 2.2, 0.4, -2.2, -0.1, 1.7, 1.1, -2.6, 0.8, -1.0, 1.9, 0.9, -1.4, -2.2, 1.2, 1.3, 1.8, -2.0, 1.2, -2.8, -1.5, -0.9, -0.2, -2.3, 0.4, -0.9, 2.4, -1.9, -1.5, -2.8, -1.7, 2.1, -2.8, 2.3, -2.0, 2.3, 1.1, 1.1, -2.2, -2.3, -3.2, -2.6, 0.8, -0.2, -1.4, -1.5, 1.7, -2.4, -1.4, -2.0, -1.3, -1.6, -1.3, 0.2, -1.7, 2.3, 2.3, 2.1, -1.7, 2.7, -2.9, -1.3, -1.7, -3.0, 2.4, 0.9, 1.6, -0.1, -1.1, -0.5, -0.8, 3.0, -1.0, -1.8, 0.9, -3.1, -1.8, 1.6, -2.2, -0.4, -2.8, 1.9, -3.0, -0.4, 1.7, 1.7, 1.0, -1.2, -1.9, -2.1, -1.5, -0.8, 2.6, -2.0, 0.9, 1.5, 2.6, 1.7, 0.8, -1.8, -1.4, 0.7, -0.8, 0.9, 2.1, 2.0, 1.7, -1.4, 1.8, -1.3, -2.1, -0.6, -1.8, 1.3, -1.8, 2.4, -1.4, -1.3, -1.1, 1.4, -1.6, 1.2, -0.3, -1.3, 0.3, 3.0, -2.2, -1.2, -1.0, -3.4, -1.9, -1.7, -2.3, -2.6, -0.8, -1.5, -1.5, -0.1, -0.7, 1.8, -1.5, -2.1, 1.7, -1.2, -1.9, 2.2, 1.2, 1.5, 2.9, -2.0, 1.9, 2.4, -1.4, -2.9, -0.7, 1.7, -0.1, -2.2, 0.3, -0.6, -3.4, 2.8, -1.3, 0.8, -1.8, -1.6, -3.0, -2.3, -2.8, 2.3, 3.1, 0.6, 1.1, -2.4, 2.4, 1.8, 2.2, 2.9, -1.7, 1.3, 0.8, 1.4, -3.1, -0.8, -0.7, 1.6, -1.3, -1.3, 1.9, -3.4, -2.5, -1.8, -1.6, -1.8, 1.6, -2.0, -1.8, -2.6, -2.7, -3.0, -2.9, -0.3, -1.4, -1.5, 1.4, 2.4, -0.2, 2.5, -2.3, -0.1, 1.2, 1.5, -0.1, -1.6, -2.7, -2.3, -1.4, -0.8, 1.5, -1.6, 2.2, 0.8, -2.3, -1.6, -2.1, -0.5, 2.3, -2.6, 1.9, -0.7, 1.8, 1.4, -1.4, 0.2, 0.2, 2.7, 2.4, 1.0, 2.8, 1.2, -1.8, 1.9, -2.0, 1.8, -1.1, 3.2, -1.1, 1.3, -2.1, -2.9, 1.3, 1.0, -1.6, 1.6, 1.9, 1.6, -0.6, -1.0, 1.1, -1.3, -1.0, -0.7, 1.5, -2.0, -0.9, 1.4, -1.8, 2.4, -0.9, -1.8, -2.1, -1.3, -1.6, 2.0, 2.0, -0.7, -1.3, 2.3, -2.1, -1.3, -2.5, -2.1, -1.0, -2.2, -1.7, 1.9, 2.2, -0.4, -0.5, -2.1, -0.9, 0.6, -0.7, -3.2, 1.9, 0.7, 1.2, 2.3, 1.7, 1.8, -0.5, 0.8, 2.1, 2.5, -1.4, -3.2, -0.5, 1.4, -0.5, -1.4, -1.5, -0.5, -0.4, 0.8, -2.8, 1.6, -1.8, 0.7, 1.1, -1.7, 2.6, -3.1, 1.3, -0.7, -0.9, 2.2, -1.4, 0.6, -1.9, -1.3, 1.9, 2.1, -2.1, 1.2, -1.3, -1.4, 2.3, -0.1, 1.1, 1.7, -1.9, 2.7, -1.1, 1.9, 1.0, -3.3, 2.0, 1.7, -1.4, -0.4, -1.9, -1.5, -2.0, -2.1, 1.4, -0.4, -1.7, -0.3, -1.1, -1.7, -1.9, -2.1, 2.2, -0.3, -1.7, 0.9, 2.7, -2.2, -1.9, -2.9, -2.7, 1.6, -0.8, -0.5, 0.1, -1.1, -1.7, 1.9, -1.1, -0.3, 0.8, 0.9, -1.5, -2.6, 0.9, 2.2, 1.1, 2.4, 1.6, -2.1, 1.7, 0.2, -1.2, -1.5, 2.3, 1.9, -3.2, 2.5, -2.7, -2.0, -0.6, 1.5, -0.2, 1.2, 1.3, 1.4, -0.3, 1.5, 1.5, -1.4, 1.7, -0.9, 2.2, -1.6, -0.3, 2.2, 0.2, 1.7, -1.0, 1.9, 1.3, -1.1, -2.6, 1.8, -2.0, 0.4, 0.7, -1.6, -1.9, -1.2, -1.6, 1.3, -1.5, 2.9, 0.8, 0.4, 1.2, -1.2, 1.8, -2.3, 1.2, -1.7, 1.1, -1.4, 2.4, -1.9, -1.6, 1.6, 1.5, -0.4, -1.5, -0.6, 1.0, -2.4, 2.6, 0.7, -1.2, -2.0, -2.1, 2.4, -1.3, -3.0, -2.3, -1.8, -2.9, -1.8, 1.6, -2.4, 2.7, 2.1, 1.9, 1.4, -1.8, 2.2, 2.3, 2.7, -3.1, -2.4, -2.6, 0.8, 1.4, 1.8, -1.4, 1.8, 1.9, -2.0, 1.2, 1.8, 1.2, 0.1, -2.4, -0.4, 0.2, 1.2, -1.5, -0.7, -2.3, -1.5, -1.6, -1.2, 0.1, -0.2, 1.0, -1.0, 1.2, -0.8, -1.1, 2.0, 2.6, -2.5, 2.5, -0.3, -1.0, 0.3, -2.6, -1.4, 1.9, -2.0, -1.8, -1.2, 1.1, 2.4, -1.4, 2.8, -2.1, 0.4, -1.8, -0.2, -0.2, -0.9, 0.9, -2.2, -0.1, -2.5, -0.1, -1.1, -1.4, 0.8, -2.5, -1.7, -3.0, -0.7, 1.4, 1.8, 1.9, 2.1, 1.9, -1.9, 1.8, -1.2, 1.5, 0.6, 2.7, -2.8, -1.0, -0.4, 2.9, -1.4, -2.6, -0.1, 1.5, -0.6, 0.6, 1.8, -1.9, -1.6, 2.1, 0.9, -1.6, 1.2, -1.5, 0.8, -1.6, -0.9, -2.3, 2.0, 0.7, -0.4, -1.7, -1.6, -1.5, 1.6, -2.1, 2.7, -2.7, 0.2, -1.3, -1.7, 2.3, -0.8, 0.8, 2.9, -0.5, 1.6, -1.2, 1.3, -2.1, 2.7, 0.1, -1.8, -2.0, 2.3, -1.7, 1.7, -0.6, 0.4, -1.9, -2.2, -1.0, 0.7, -2.3, 2.3, -0.6, 0.3, -1.0, -0.8, 1.7, -1.2, -1.0, 1.4, -1.5, -1.8, -1.0, 0.2, 1.4, 0.7, 1.6, -1.9, 2.6, -2.2, -1.2, 1.0, -0.2, -2.1, 1.8, -3.2, 1.9, 2.3, 1.3, -1.8, 0.7, 1.8, 0.2, -1.0, -2.5, -2.1, -1.5, 0.9, 1.6, -2.3, 0.1, 1.6, 3.4, -1.6, -0.2, 1.5, 1.5, -0.2, 1.8, 1.7, 1.9, 2.2, 1.9, 0.4, -1.8, 1.6, -1.4, 2.1, 2.1, 1.6, -1.2, -1.5, 1.6, 0.1, 0.9, -1.4, -1.9, -1.4, 0.8, -1.7, -1.8, -2.0, 1.5, 0.9, -0.3, -1.8, -1.7, -2.6, -0.9, 1.8, 0.8, -2.1, -1.1, -1.4, 1.9, -1.9, 0.7, 2.0, 2.2, 2.6, -3.1, 0.7, -1.6, 2.0, -2.8, 2.0, -1.2, 2.3, 1.2, -0.9, 0.8, -0.1, 1.8, -1.9, 0.5, -2.1, -1.3, -1.6, 0.6, -2.1, 0.1, 0.2, -1.2, -1.1, 1.9, 1.2, -0.3, 1.8, 1.6, 2.7, -0.8, -0.7, -0.7, -1.9, 2.1, -1.7, 1.9, -2.4, -1.1, -1.2, 0.4, -0.1, -1.0, -1.0, 1.2, 0.6, -1.3, 0.6, 0.2, -1.6, -0.3, -0.5, -0.2, 0.5, 2.0, -1.9, 2.5, -2.0, 3.0, -1.3, -1.7, -2.3, -0.2, 0.6, -1.8, 0.5, -1.8, -1.9, -1.2, 2.6, -3.1, 1.2, -1.4, 0.9, -1.3, 1.7, -1.2, -0.6, 2.0, -2.0, -1.0, 1.8, 2.0, -1.8, 1.0, -0.8, -1.5, 0.7, -1.8, -1.5, -1.8, -1.1, -2.8, 1.6, -2.8, 0.3, 0.9, -1.7, -3.0, -2.2, 1.3, -1.1, -0.5, 0.4, -2.0, -2.0, 0.3, -1.2, 2.4, -0.7, 1.4, -1.5, 1.7, -3.6, 2.0, 1.3, 1.0, 1.7, -1.5, 2.0, -2.8, 1.4, -1.2, -1.5, -0.8, -2.3, 1.8, 0.8, 2.7, -2.1, -1.7, -2.0, 1.6, -0.9, 1.4, 1.2, 1.9, 1.9, -1.9, 1.2, -2.0, -0.9, -1.8, 1.5, 2.4, -1.1, 1.9, -3.0, 1.6, 0.9, 2.1, -0.1, 1.8, 1.7, -0.1, 1.0, 1.2, -1.3, -1.8, -1.0, -0.7, -2.8, 2.3, -2.6, 2.5, 2.2, 1.3, -1.6, 2.0, -1.1, 1.5, -1.4, -1.4, -1.3, 1.5, -1.1, 1.8, 1.0, -0.7, -0.2, 1.7, -0.2, 0.6, -1.5, 1.8, -1.4, -1.3, -3.3, 2.1, 0.7, -1.3, -0.2, -2.0, -1.2, 2.1, 1.8, 2.0, -0.2, 1.9, -0.9, 1.8, -1.2, 1.9, -1.5, -2.1, -0.8, 2.2, -1.1, -0.5, -1.8, 2.9, 1.6, 1.0, 1.1, -0.7, 1.5, 0.7, 1.6, 2.2, -2.1, 1.0, 1.1, 1.3, -1.7, -1.3, -2.3, -2.6, 2.0, 1.0, -1.8, 1.4, -0.6, -1.4, -0.3, -0.7, -1.5, -1.1, 0.9, 2.6, 1.2, 2.4, -3.0, 1.1, -1.8, 1.8, 0.7, -1.5, 1.6, -3.5, 1.4, -2.7, 1.5, -1.1, -1.0, -2.7, -2.2, 0.3, -1.1, -2.0, 2.2, 0.3, 1.6, -2.1, 1.6, -0.4, -1.6, 0.2, -0.8, 1.7, 2.4, 0.1, 0.5, -1.4, 0.9, -2.0, -2.3, 1.2, 2.2, 2.5, -1.4, -2.7, 1.4, -1.9, 2.4, -0.5, -2.7, 2.2, 2.2, 2.3, -1.4, -1.4, 2.0, -2.4, 2.0, 1.7, 1.0, -2.1, 1.9, -1.9, -1.5, -1.6, -1.3, -1.4, 1.4, 2.9, 1.9, -1.8, 2.8, 0.4, 0.8, -2.0, 2.3, -2.0, 2.0, -2.7, 1.3, -1.6, -1.4, -2.1, 1.6, -1.1, -1.8, -1.6, -1.2, -0.5, 1.2, -2.2, 1.6, -1.5, 1.0, 1.8, 0.8, -2.4, -0.4, 1.7, -0.4, -0.2, 1.9, -2.2, 0.6, -2.3, 2.7, 3.1, -1.7, -1.1, -2.0, -1.2, -1.6, -2.3, -1.0, -1.5, 0.4, -1.1, 2.2, -2.2, 1.2, 0.4, 2.8, -1.8, 1.5, 1.8, -1.3, 2.3, -1.2, -1.8, -1.2, -0.9, -1.7, 1.8, 0.8, -2.2, -1.4, -1.1, -1.3, 2.6, -1.9, -2.0, -2.8, 1.9, -1.4, -0.8, 1.8, -1.3, -2.4, -0.4, -2.0, -2.4, -2.6, -0.9, -2.1, -1.5, 1.0, -2.0, -1.4, -1.7, -0.3, -1.5, 2.4, 1.8, 2.3, -1.7, -2.0, 1.3, -2.1, 0.6, -1.1, 0.9, -2.5, -2.9, 1.7, -0.4, -1.5, 0.5, -2.3, -1.2, 2.3, 1.9, 1.9, -1.6, 0.9, -1.3, -1.1, -0.9, 1.5, -0.6, -0.2, 1.8, -1.2, -1.5, -1.5, -0.7, -1.9, 1.2, -2.0, 1.2, -1.7, 1.6, -0.5, 1.8, -1.2, -1.5, -2.0, -0.5, 1.1, 2.3, 0.3, -1.1, -1.1, -2.0, -0.4, -1.7, -1.4, 1.3, -0.4, 0.8, 0.2, -3.4, -0.1, -2.4, -1.9, -0.5, -0.3, -2.1, 2.3, 2.5, 0.3, -1.9, 1.2, 1.0, -1.4, -1.4, -1.4, 2.0, 0.1, 1.4, 1.8, -1.8, -1.6, -0.1, 1.9, 2.1, -1.4, -2.5, -1.5, 1.7, -1.5, 1.8, -1.8, 1.2, 2.2, 1.4, -2.1, 2.0, -1.4, 1.2, 1.0, -1.6, 1.6, 1.3, -2.7, 2.3, -1.4, 1.1, -2.7, -1.3, -1.4, -2.1, -2.0, 1.5, -0.7, 0.3, 0.9, -1.3, -1.8, -1.3, -2.0, -1.7, 2.2, 1.6, -1.7, -1.8, -1.9, -0.6, 0.4, -0.5, 1.1, -1.7, 1.0, 1.9, 2.6, 0.3, 2.3, -1.4, -0.1, -0.3, -2.7, 0.4, 1.8, -1.7, 0.1, -0.4, 2.0, 1.5, -1.7, 1.6, 1.4, -1.2, -0.2, 2.1, -1.4, -2.2, -1.9, -3.4, 1.6, 1.8, 1.8, 2.2, 0.4, -0.2, -1.6, -1.6, 1.5, 0.5, 1.9, -1.7, -1.2, 0.7, 1.9, 2.4, 1.4, -0.4, -1.4, -1.3, -1.1, -0.9, 1.3, 1.1, 1.8, -2.2, -0.3, -1.5, 1.8, -3.3, -1.9, 2.2, -0.2, 0.6, 1.8, -1.1, -2.7, -1.3, -3.2, -2.1, 1.4, -1.8, -2.7, -2.1, 0.8, 0.1, 3.2, -0.1, 1.8, 1.7, -1.1, 2.2, -0.1, 1.9, 2.2, -2.2, 2.0, -2.5, 1.6, -0.9, -1.2, 1.5, -2.1, -2.0, 1.5, 1.3, -1.0, 1.7, 1.1, -1.4, -0.4, -1.0, -1.5, 2.3, -0.9, 2.8, 0.7, 2.1, -2.0, -2.2, -1.4, 1.4, -1.2, -1.1, 2.6, -0.3, 2.8, 2.4, 1.7, -1.3, 1.9, -2.5, 0.6, -1.9, 2.1, -0.1, -2.6, -1.8, -2.7, -2.7, 0.9, -0.7, -2.0, 2.3, -1.8, 1.7, 1.9, 0.2, 1.1, -2.8, -0.9, -1.0, -2.5, 1.8, 0.1, -1.1, -1.2, -2.6, 0.6, -1.0, 0.2, -1.9, 0.8, -0.7, -1.7, 2.8, 1.9, 2.4, -1.0, 1.0, -1.0, 1.8, 1.8, -1.4, 1.7, -2.0, -1.3, -1.6, -0.4, 1.5, -1.1, 2.3, 2.1, -0.5, 1.5, 0.1, 1.1, -1.0, 0.7, 2.7, 2.0, 1.1, -1.7, 3.0, -1.2, -0.7, -1.3, 1.2, 2.1, -1.0, -1.1, -1.7, -2.6, -1.2, 2.5, -2.0, 2.3, 2.6, 1.8, -1.5, -1.6, -2.2, 0.1, 2.3, -2.1, 1.8, -1.6, 2.0, -1.9, -2.4, 2.0, -2.6, -1.0, 0.9, 0.9, -0.6, 0.4, -2.3, -0.7, -2.2, -1.9, -1.5, -0.4, -2.2, -0.3, 1.6, -2.0, -1.5, 2.0, -1.6, 2.1, -2.1, -0.8, 2.0, -1.3, 2.4, 2.9, 0.7, 2.1, 1.3, -0.2, -1.8, -2.3, 1.0, -2.1, -1.9, 0.2, 1.4, 1.9, -2.9, 1.6, 1.4, -1.6, -2.2, -0.9, -1.9, 1.1, -2.1, 0.1, 1.5, -0.8, 1.7, 2.1, 0.5, -1.6, 1.1, -1.6, 1.6, 2.1, 0.2, -1.5, -0.4, 1.7, 1.1, -0.9, 0.1, 2.4, 1.8, 2.4, -0.9, -1.5, -1.4, 2.7, -0.1, 1.4, -1.9, 0.3, -0.7, -0.4, -2.6, 1.7, -0.4, 0.2, 2.3, -0.5, -2.3, 0.2, -0.9, 3.0, -1.2, -0.7, -0.3, 1.4, -2.4, -0.2, 1.6, -1.8, -1.5, -1.4, 1.1, -1.2, -1.3, -2.1, 1.9, -1.8, 0.3, 2.8, -1.0, -1.7, 0.2, -0.3, -0.9, 2.2, -1.2, 1.9, 1.2, -1.7, 1.8, 2.4, -2.1, -1.2, 1.8, 2.9, 0.4, 0.9, 0.6, -0.9, -0.1, 2.2, 1.5, -1.6, 1.9, -2.0, -2.7, -2.3, 2.1, 0.7, -0.8, -1.9, -1.7, -1.4, 1.3, -1.5, 1.5, -1.4, 1.3, 1.8, 1.2, 0.2, -1.8, 1.8, -1.5, 0.3, -0.9, -0.8, 1.9, -1.7, 0.1, -0.4, -1.7, 2.0, -1.8, 3.1, -1.8, -2.2, -3.8, 1.6, -1.9, 1.9, -1.8, -2.1, -2.3, 1.4, -1.0, -0.5, -1.9, -1.4, -0.5, -2.5, -2.5, -2.7, 0.2, -2.9, 1.8, -1.6, -1.0, -2.6, -0.8, 1.5, -0.9, 2.3, 1.7, -1.6, 0.9, 0.3, -0.4, 0.9, -2.0, 0.4, 1.9, -0.5, -1.5, -2.8, 1.5, -1.1, -1.5, -2.4, -1.7, 0.6, -1.5, -0.9, -1.5, -1.2, 2.2, 0.8, 0.4, 2.4, -1.4, -2.7, -1.8, 0.6, 1.7, -1.6, 1.0, -1.4, 2.0, 1.3, 1.5, 0.8, -1.1, 1.6, -1.8, 0.8, -1.1, -0.9, 1.4, 0.3, -1.3, 1.0, -1.6, 0.2, 1.3, 1.9, 2.7, 0.9, 1.7, 1.2, -1.4, 2.2, 2.2, -0.7, 0.9, -0.7, 1.1, -2.1, -1.9, 0.1, -1.4, 1.6, -1.6, -1.0, 1.5, -0.8, -1.5, 1.0, 1.4, -0.7, 1.3, -1.3, -2.4, -1.3, 1.7, -2.1, 1.9, -1.5, -3.0, -0.4, -0.4, -1.4, -0.3, 0.5, -1.3, 2.1, 1.9, 0.6, 0.2, 0.7, 1.8, -0.1, 1.3, -3.7, 1.1, -2.3, -2.3, -1.8, -3.1, 2.0, 0.7, 0.2, -1.2, -0.2, -1.3, -1.2, 1.8, 1.7, -1.0, 2.7, -1.3, 0.9, 0.9, 1.1, 2.0, -2.6, 1.5, 2.0, -1.2, -1.8, -2.1, 0.2, 2.8, 2.3, 1.7, 1.7, -1.8, 0.7, 2.5, -1.0, -1.1, -1.2, -3.3, -0.9, 2.6, -0.8, -3.3, -1.7, -0.4, 1.4, -1.5, -1.7, 2.2, 3.0, -0.5, -0.4, 1.6, 2.2, 2.6, 2.3, 2.1, 1.2, 0.3, 1.1, -0.8, -1.4, 0.8, 1.6, -1.8, -1.5, 1.7, 2.2, 1.3, -1.0, -1.5, -0.1, 0.9, 2.7, 2.7, 0.2, -2.7, -2.6, -1.1, 1.0, -1.7, -1.2, -1.4, 1.6, -1.4, -2.6, 2.0, -0.2, -1.6, -0.2, 1.0, 1.7, -1.6, 0.2, -1.2, -1.3, 2.0, -2.0, -3.3, -2.4, 1.8, -0.2, -2.8, -1.3, -2.2, 2.2, -1.6, -2.7, -2.3, -0.2, -0.3, -1.5, -2.0, 1.7, -1.2, 0.8, 0.3, -1.1, -2.6, -0.3, -1.9, -0.4, 2.9, -0.4, 1.6, 1.0, -1.1, 1.9, -2.2, -3.5, -0.8, -0.2, -2.4, 2.1, 1.5, -1.0, -1.6, 0.7, 2.0, -0.5, 0.4, 2.0, 1.7, -0.5, -2.5, 1.6, -2.1, 1.4, 2.8, 0.8, 0.2, 1.5, -2.8, -1.1, -1.3, -0.6, -1.9, -1.5, 0.8, -1.7, -0.2, 1.0, 1.8, -0.6, -1.0, -2.2, 2.0, 1.1, -0.9, 2.5, 0.4, -2.5, -0.7, -1.1, 2.1, 1.6, -1.9, -2.1, -2.4, 1.7, 1.2, -3.1, 2.0, 2.1, -0.1, 0.1, -0.9, -1.5, -1.8, 0.3, -0.5, -1.8, 1.5, 1.6, -2.3, -2.0, -1.3, 2.6, 0.9, 1.8, 2.7, -0.7, -0.3, -3.7, -1.9, 2.3, 1.0, -2.0, 1.3, -1.7, -1.0, 1.9, -0.9, -2.3, 1.5, 2.6, -1.2, 1.9, -3.7, 1.1, -2.1, 2.1, -0.4, -0.9, 1.4, 2.3, -1.8, -1.8, -1.8, 1.5, -0.7, -2.6, 1.7, -1.5, 1.5, 1.5, -0.8, -3.6, -1.9, 1.9, -0.8, 0.5, -2.6, -2.7, -2.3, 1.6, 1.9, 1.7, 1.1, -2.0, -3.2, 2.3, -2.3, -0.2, -1.9, -1.5, 1.2, 2.9, -1.2, 2.3, -1.5, 3.3, -2.3, 1.7, -1.6, 0.8, 2.7, -1.2, -0.6, -0.9, 1.5, 2.1, -1.3, 2.2, -1.3, -1.3, 1.4, -0.7, -1.0, -0.2, -1.8, -2.0, 1.6, 2.7, 1.6, -2.2, -1.5, -0.8, 1.6, 2.6, 1.2, 1.2, 1.8, 2.6, 3.0, 1.7, 0.3, 1.9, -2.2, -1.2, 1.3, -1.3, 2.0, -2.6, -1.7, 1.0, -1.1, -0.8, -2.5, -2.6, 2.2, 2.1, -0.5, 1.4, 1.9, 1.1, -1.1, 1.0, 1.4, -1.2, 1.1, -2.5, -1.4, -2.4, 0.3, -1.4, -2.4, 1.7, -1.6, -0.2, 2.1, -2.4, 2.4, -2.6, 1.5, 0.7, 1.5, 0.2, 2.6, -0.9, -3.0, -1.5, 1.6, 1.2, -1.6, -0.9, -1.1, 1.4, -3.4, -0.8, -1.7, 1.3, -1.3, -2.0, 3.0, 2.4, 2.8, 0.6, 1.2, -2.2, 0.1, -2.0, -1.0, -2.1, -2.3, 0.2, -1.5, -1.8, 2.6, 1.9, 0.4, 1.1, -1.0, 2.2, -1.2, 1.5, -1.0, -0.8, -0.9, 2.3, 1.8, -1.7, -0.1, -0.5, -1.2, -1.9, 2.5, 2.2, -2.9, 1.2, -2.1, 0.7, 0.4, 1.4, 2.6, 1.7, -1.0, -1.7, 1.7, 1.2, 1.8, 1.9, -2.5, 1.8, 2.4, -2.2, 2.4, 0.9, -0.5, -1.2, -0.3, 2.7, 1.0, -0.4, -2.8, 1.7, -1.4, -0.8, 1.0, 1.6, -1.4, -1.9, 2.4, 1.8, -1.4, 1.5, -1.9, 1.5, -1.1, 2.3, -1.7, 1.4, 2.0, -2.4, -2.4, -3.2, 1.4, 1.7, -2.1, 0.2, -1.9, 0.5, -0.9, -2.6, 0.8, 2.3, -2.2, -1.1, -1.5, -1.5, 2.1, 1.2, 0.4, 1.9, -0.3, -0.1, 1.1, 1.6, -1.6, -2.0, 2.9, -1.3, 1.5, -2.3, -1.3, 1.7, -1.2, 1.8, 2.5, -1.9, 1.5, -1.5, -0.9, 1.2, -1.7, -1.9, 1.1, -2.5, 2.1, -2.0, 1.4, -1.9, 2.4, 1.7, -2.3, -0.7, -1.1, -1.4, -0.7, 0.1, -1.9, -1.2, -1.1, 2.0, 0.5, 0.9, -1.3, 1.9, 2.1, 1.5, -2.5, -1.8, -1.8, 2.9, 1.6, -1.1, -1.1, 2.7, 1.7, -2.2, -1.0, 1.8, 0.9, -1.2, 2.1, -1.5, 1.8, 1.6, 1.6, 1.4, -0.6, -0.6, 1.0, -0.8, 1.9, -1.4, -2.5, -3.0, 0.5, 1.7, -1.8, 1.4, -2.4, 1.8, -1.5, -1.5, 0.4, -1.5, 1.0, -2.2, -1.3, 0.4, -1.7, -2.4, 2.1, -0.5, 1.4, 1.7, -1.3, -1.1, 2.0, -2.3, 1.8, 1.7, -0.6, 2.9, 1.2, -1.6, 2.3, -1.5, 1.3, -1.8, 1.9, 1.8, 0.8, -0.1, -2.2, 1.3, 2.0, 0.3, -2.6, 1.8, 2.4, 2.3, -2.0, -3.1, 2.2, 0.3, 1.8, 0.6, -0.5, -1.9, -1.7, 1.0, 1.6, -1.7, -1.3, 3.2, 1.5, -1.5, -0.9, -1.9, 1.5, -3.0, -1.5, -2.1, -1.7, -2.1, 2.3, -1.1, -0.1, -1.7, -2.2, 3.1, -2.0, 2.2, 0.4, -2.3, -2.0, 1.8, -1.0, 1.8, 1.6, -2.1, -0.5, -1.3, 2.8, 1.0, 1.6, -3.4, 0.3, -2.1, -2.4, -0.6, 1.6, 2.7, 0.8, -2.7, 1.9, 1.9, 1.2, -1.5, -0.5, 0.3, -1.0, 1.7, 2.0, -1.3, 0.9, -2.2, -2.4, 0.3, -1.8, 2.4, -1.9, -1.7, -3.4, -0.4, 1.8, 2.4, -2.6, -0.7, -1.8, 0.7, -0.9, -1.2, -0.4, 1.5, -1.5, 0.9, -1.0, -2.3, 1.3, -1.9, 2.3, 1.5, 1.7, -1.8, -1.4, -0.2, -0.7, -1.4, -2.6, 1.3, 0.2, 2.4, 0.1, -2.1, -2.1, 1.0, 1.9, -1.9, -2.5, -2.9, 1.0, 1.2, 1.2, 0.5, -2.9, -0.2, 0.5, 1.9, 2.1, -1.7, -2.7, 0.7, -3.1, 2.7, 1.7, 2.8, 1.5, -2.3, -2.0, -1.4, -2.3, -1.4, -2.5, -2.3, -1.8, -1.2, 2.6, -1.1, 1.3, -0.8, 0.3, -1.3, 0.9, -0.6, -1.9, -1.2, 0.2, 0.3, -2.1, -1.3, 2.6, -2.4, 1.3, 2.1, -0.4, -1.1, 0.9, -1.0, -1.7, -1.8, 1.8, 2.0, 1.2, 2.4, -1.4, -0.7, 2.0, -1.4, -2.1, -1.2, -2.5, -2.6, 2.2, -2.6, -1.6, -2.1, -0.5, -1.1, -1.8, -2.2, -2.3, -2.4, -0.3, 2.0, -2.4, -1.8, -1.9, -0.9, 2.0, -1.5, -2.4, -2.1, -0.2, -1.9, -0.7, 3.2, 2.7, -0.1, -2.7, 0.4, 1.6, -1.4, 0.4, -3.1, 1.1, -3.4, -2.0, 2.4, -2.7, 1.4, -0.5, 2.1, -2.2, -1.7, 1.9, 1.5, 2.3, -1.5, -2.3, -2.1, -0.7, -1.6, 1.8, 1.0, -2.1, -1.5, 1.6, 3.0, -0.8, -1.6, 1.1, 0.8, -2.0, -1.5, -2.0, -2.2, 2.3, -1.1, -2.1, 1.5, -2.0, 2.3, -1.5, 0.8, 2.3, -2.1, 1.8, 2.0, -0.5, 1.8, 2.5, -0.1, -1.5, -3.1, 0.1, -1.3, 0.8, -2.2, 0.3, 0.8, -0.7, -1.7, -0.5, 0.7, 1.6, 1.4, 2.0, -3.0, 2.9, 2.4, 1.6, 1.5, -1.2, -3.0, 1.5, 0.8, 1.2, 0.4, -2.0, -0.2, -0.9, -0.5, -1.0, -1.6, -1.4, -0.4, -2.0, 2.3, -2.1, -1.3, 1.5, 1.9, -0.4, -2.0, 1.6, -2.1, -0.1, 0.2, 1.4, -2.9, -3.4, -2.2, 0.2, 1.5, -1.9, -2.4, 2.7, -1.0, 1.5, 0.5, -1.8, 2.3, 0.1, -1.8, 0.7, -1.9, -2.3, 1.8, -0.9, 2.5, -2.1, 1.8, -2.8, 1.6, -1.4, -1.4, 2.1, 1.2, 2.8, 2.2, 1.6, 1.1, -0.5, -0.7, -1.7, -1.5, -1.5, 1.4, -0.7, 2.8, -0.5, -1.5, 0.1, 1.1, -0.3, -1.7, -3.2, 1.6, -0.6, 0.9, 1.7, 1.5, 2.2, -3.1, 0.5, 2.0, 2.0, -2.8, 1.6, 1.9, 1.9, 2.5, -1.1, -1.0, 0.3, -0.6, -1.4, -1.3, 1.3, -0.5, 1.6, -1.9, -2.7, -2.1, 1.0, -2.3, -2.6, -1.4, 0.9, -1.8, 0.9, -2.4, 0.4, 2.4, 0.6, -1.5, -0.1, 2.6, 0.4, 1.6, -0.9, -2.6, -2.3, -1.4, 3.3, -1.8, -1.1, -1.4, 2.8, -2.3, -1.7, -1.5, 1.3, -1.9, 2.9, -1.4, 1.8, -1.7, -2.6, -1.0, -1.6, 2.1, -1.9, 1.1, 1.3, 0.9, 0.8, 2.8, -1.0, -1.9, 2.9, 2.0, -1.9, -2.1, 1.2, -1.0, 1.1, 2.5, -2.0, -1.7, -1.0, 2.3, 1.5, -0.9, -0.1, 0.8, -1.2, 2.9, 2.6, 1.0, -2.3, -1.4, 2.3, -1.7, -1.8, -1.0, 0.5, 2.5, -1.2, 0.7, -1.8, -2.5, -3.1, -1.8, -3.3, -0.3, -1.6, 2.1, -2.2, -0.4, 2.2, -1.3, 1.3, 1.8, 1.8, -1.0, -0.8, -1.3, 0.9, 0.6, 0.6, -2.1, 1.2, -2.6, -1.2, 1.0, -1.5, -2.4, 1.2, -2.6, -2.4, 1.4, -1.1, 0.9, 1.9, -2.2, 1.4, 1.0, 2.3, -1.3, -1.7, -0.9, 2.4, -1.6, 1.9, 1.8, -1.2, 1.7, -1.3, -1.1, 1.3, 1.5, -2.1, -2.7, 1.6, -0.5, 0.9, -2.1, -1.9, 2.3, -0.1, -0.5, -1.1, -1.5, -0.9, 2.8, -1.7, 0.2, -1.5, 1.3, 1.5, 1.4, 1.9, 2.4, 2.4, 2.3, 2.4, 0.4, -1.7, -2.0, -1.5, -2.3, 0.1, -2.5, 2.6, -2.7, -2.0, -0.6, -1.6, -1.7, -1.1, -2.0, -2.0, -3.3, -1.6, -0.5, -2.8, -0.9, 2.3, 1.2, 0.4, -0.7, -2.2, 2.2, 2.3, -2.4, -1.4, 0.7, 1.3, -1.9, 1.7, 1.1, 2.4, 1.3, 1.6, 1.6, 0.6, 2.1, -1.3, -1.6, -1.4, -1.8, -0.4, -1.6, 1.1, 1.0, -1.7, 1.2, 0.1, 1.6, -1.7, -2.9, -1.7, 0.9, 0.5, -2.8, -1.4, -0.6, -2.3, 2.1, -2.5, -2.0, -1.4, 1.9, -2.2, 2.2, -1.1, 1.3, -1.5, -0.2, -1.8, 0.6, 1.3, -0.3, 1.4, -1.5, 2.1, -1.2, 0.5, -1.2, -0.8, 2.4, 1.7, -2.0, 1.8, 1.3, 3.4, 2.0, 1.9, 2.1, 0.7, 1.3, -2.4, 1.9, 1.1, -2.1, 2.0, 2.2, 0.9, -0.1, 2.1, -0.6, -1.4, -1.7, -0.7, -1.4, -1.5, 1.7, -2.1, -2.1, -0.7, -0.9, 1.3, -0.9, 1.3, -2.1, 2.3, -2.0, 1.7, 1.8, 2.4, -0.5, -2.1, -1.8, 2.6, -0.6, -1.3, 2.7, -1.5, 1.2, -1.7, -1.1, -0.8, -2.0, -3.3, -3.0, -1.3, -1.0, -0.2, 1.1, 2.6, -1.0, -1.9, 2.2, 1.1, 1.1, 2.0, -0.8, 1.6, -1.7, -1.7, 0.3, 0.2, 1.3, -2.9, -1.6, -0.4, 1.1, 1.6, -2.0, -0.2, -2.3, -0.9, -0.1, -2.0, -2.3, 0.5, -0.1, 2.1, 0.3, 1.1, 1.1, 1.6, 1.2, -2.1, -1.9, -1.7, -1.9, -1.8, 2.1, -1.0, 1.5, 0.4, -1.5, -1.4, -2.9, -0.3, 1.6, -1.9, 0.3, -1.6, -1.1, 1.5, 2.1, -0.6, 1.3, 1.6, -0.9, 0.8, 2.3, -1.0, -0.7, -0.3, 1.7, -1.2, -0.5, 2.0, 1.3, -2.7, -1.2, 1.9, 2.2, -1.3, -2.0, 2.7, 1.1, 3.1, -2.1, 1.8, 2.3, 1.3, -1.4, 1.5, -1.3, -0.4, -1.8, -1.4, -2.3, -1.3, 1.9, 2.0, 2.2, 1.6, -1.0, -2.8, 0.1, -1.3, -1.1, -2.7, 1.3, -0.8, -1.5, -2.6, 0.7, -0.9, 0.4, -0.3, -3.4, 0.4, 1.4, 2.6, -1.2, -1.1, 1.4, -1.9, 1.4, -3.2, -2.3, 1.4, 2.6, -0.3, 1.5, -2.1, -0.8, -1.6, 0.5, -1.3, 0.4, 1.8, 2.3, -2.3, 2.6, 2.4, -1.9, 1.9, 0.1, -1.9, -0.9, 0.4, -1.3, -1.8, -1.8, -2.1, -2.6, 2.0, -1.8, 2.7, -0.8, 1.0, 1.5, -2.7, 2.4, 1.7, -1.2, 1.8, 1.2, -0.8, -1.3, -0.6, -1.5, -2.2, -0.1, 1.2, -0.4, -1.0, -1.3, -2.1, 0.7, -1.8, -1.0, -1.5, 1.5, -1.4, 1.8, -0.4, -0.2, -1.4, -0.8, -0.5, 2.4, 0.6, 1.3, -1.3, 0.9, 2.4, 1.7, -1.0, 0.5, 1.6, -1.6, 0.5, 2.3, -1.6, -1.6, -1.9, 2.2, -0.8, 1.0, -1.1, 1.9, -1.4, -1.1, 1.3, 1.0, -1.4, -0.5, -1.8, 1.1, 0.3, -2.1, -1.6, 0.9, 1.0, -0.9, 2.0, 2.9, -2.6, 0.9, 2.9, 1.9, 1.5, -2.6, -1.3, -1.3, -1.4, 1.8, -1.2, -1.0, -1.9, -1.6, 1.4, 1.3, -1.9, 0.6, -2.5, -1.3, -1.4, -2.3, 0.9, -1.0, -0.5, 1.0, 1.3, 1.7, -2.4, 1.9, -2.7, 0.3, 2.0, -1.4, 1.6, 2.0, 2.0, 1.7, 1.8, 1.7, -0.2, -1.0, 0.6, 2.1, -0.6, -1.8, 2.1, 1.2, -2.7, 1.8, 1.9, -0.3, -1.3, 1.3, -1.6, 1.3, -1.3, -1.2, 0.1, 0.4, -1.5, -2.6, -1.8, -2.8, 0.2, -1.1, -0.8, -1.0, -0.3, -2.2, 0.1, -2.1, 2.0, -1.0, 2.1, 1.2, 2.1, 2.5, -1.1, -1.2, -1.9, -1.5, -2.5, 0.6, 2.1, 1.8, -0.2, -2.4, 2.2, 1.0, -1.9, 2.3, 2.1, -1.2, -0.7, -1.0, -2.2, -1.7, -1.9, 1.9, -0.3, -1.9, 2.2, 2.6, -1.2, -3.0, -1.4, -3.5, -1.7, 0.7, -1.9, -2.4, -1.0, -2.1, -0.4, -2.8, 0.7, 0.1, 2.2, -1.2, 2.0, -1.1, -1.4, 1.1, -2.2, 0.5, 1.2, -1.1, -0.9, 2.4, 2.4, -2.1, -1.6, 2.0, -1.3, 1.4, 2.1, 1.6, 2.2, 0.6, -1.2, -2.1, -2.2, 1.3, 0.9, -0.1, 1.1, -1.4, -1.7, 2.0, -1.7, 2.1, 3.2, -0.7, -1.3, -0.9, 1.2, -2.3, -1.3, -1.6, 1.5, -1.3, -0.6, -0.4, 1.2, 1.3, -1.4, 2.0, 1.6, -1.5, -0.1, -2.1, -1.0, -2.1, 1.3, -1.5, -2.7, -1.8, -2.4, 2.2, -1.4, 2.2, -0.4, -1.0, 0.4, -2.1, 1.6, 0.8, -1.9, -1.6, -2.0, -1.2, 3.0, -1.0, 0.2, 2.2, -2.6, -1.8, -2.3, -0.3, 1.3, -2.2, -2.0, -2.4, 1.0, 1.5, 2.3, -0.2, 1.4, 1.0, -1.6, 0.2, -1.5, -1.7, -2.1, -2.0, -2.7, -1.1, -1.1, 0.1, -0.6, 0.2, -0.5, 0.1, -1.4, 1.6, 1.7, -0.2, -2.6, 1.9, 1.5, -1.7, -0.3, -2.5, -1.8, -1.3, 2.0, -2.1, 2.1, 2.5, 1.5, 1.5, -1.5, 1.9, 0.7, -1.8, 2.0, 2.3, -1.6, 2.5, -1.1, 0.8, -1.5, -1.6, 1.6, -0.4, -1.8, 0.1, 1.1, 1.3, -1.9, 2.3, 1.5, 3.2, -0.8, 2.2, 0.5, 1.8, 1.7, 2.4, 1.0, 1.5, -2.5, -1.3, -0.3, -1.3, -2.0, 1.5, 0.8, -1.2, -1.4, -1.6, -0.6, 1.4, 1.2, 2.7, 2.7, -0.4, -1.0, 0.7, -0.8, 1.4, 0.8, -1.8, 1.6, 0.3, 1.8, -0.4, 2.3, 1.5, -1.1, -3.3, -0.1, -0.6, -0.9, 2.0, 2.0, -1.3, -2.6, -1.7, -1.8, -2.0, -1.2, 1.1, -1.6, 3.1, -2.1, -0.1, -1.1, 0.8, -2.4, -3.1, 1.6, -0.9, -2.4, 2.1, -0.7, -2.7, -2.3, -1.9, -1.0, 2.2, 2.8, -0.4, -3.3, -2.2, 1.7, -2.3, -1.9, 1.2, 2.2, 1.7, -1.7, 1.8, 0.3, 1.6, 1.5, -3.4, 2.1, -1.5, -1.3, 1.5, 1.1, -1.8, 2.2, 0.4, -2.2, 1.6, -1.8, -1.8, 3.0, 1.6, -2.7, 1.5, 1.1, -0.1, 1.6, -1.8, -0.7, -1.8, -2.2, -1.7, -1.3, -0.7, 1.7, 1.7, -1.3, 0.7, 1.1, -2.7, -1.8, -1.3, -2.6, -1.9, -1.9, 2.8, -0.8, 2.6, -2.2, -1.5, 0.6, 0.3, 0.4, 1.5, 0.7, -1.9, -3.3, 0.7, 1.2, 1.6, 2.0, -1.7, 1.7, -2.2, 3.2, -2.3, 1.1, 2.7, 2.3, -1.6, 2.3, -1.3, 2.4, -2.7, 1.9, 1.7, -1.4, -0.7, -0.8, -1.8, -1.8, -1.4, -0.7, -2.4, -0.6, 2.1, 1.9, -1.7, 2.1, -1.1, 0.5, -1.6, -1.7, -1.0, 2.2, -1.4, -2.2, -0.2, 1.7, -3.4, -3.0, 0.8, -1.8, -1.7, 1.4, -1.1, 0.2, 0.4, 0.5, -1.5, -0.3, 2.5, 0.1, -3.2, 1.5, -0.7, 1.5, -2.3, 2.7, 1.5, 1.4, 1.0, 1.3, -2.1, 2.3, 0.5, 0.6, 3.0, 1.5, -0.3, 0.6, 2.3, -2.3, -1.5, -0.4, -0.5, -2.6, -2.0, 1.6, 1.1, -0.7, 2.3, 2.6, -1.1, -3.1, 0.8, -1.5, -0.2, 0.5, -0.9, -1.1, -1.9, 0.9, -1.9, 1.1, -1.2, -0.4, -0.5, -1.4, -1.5, 1.5, 0.5, -1.0, -1.0, -1.2, -1.5, -1.4, -2.0, 2.6, -2.4, 1.9, -1.1, 1.4, -1.6, 2.3, 2.2, -1.9, -1.6, -0.7, 2.1, -0.6, -1.0, -1.3, 1.5, 2.0, 0.1, -1.1, -1.0, 0.8, -2.9, 1.0, -1.5, 0.9, 1.8, -0.6, 0.3, -2.2, -1.3, 0.1, -1.5, -1.9, -2.0, 2.4, 0.7, 1.5, 2.0, -0.7, -2.0, -0.6, -1.4, 1.8, -1.3, 0.1, -1.5, -0.4, -0.8, 2.7, 3.2, -2.6, 2.1, -1.9, 2.1, -1.0, 2.3, -2.3, 2.7, 1.8, 1.9, 2.2, -1.4, -2.4, 1.4, 0.4, -1.8, 0.1, 2.7, -1.1, 2.1, 2.0, 1.7, -0.1, -2.3, -2.3, -1.6, -0.2, -1.8, -1.8, -2.3, -1.3, 2.3, 1.0, -2.6, 2.5, 1.6, 1.9, 1.9, 0.5, -2.2, -1.0, -0.8, 0.3, -2.0, -2.3, -1.0, 1.5, 1.2, 1.0, 1.4, 1.4, 1.7, 2.2, 0.4, -0.7, 1.2, -0.4, -1.4, -1.1, -1.2, -1.7, 2.2, 1.6, 1.3, 2.1, -2.1, -0.1, -1.1, -1.2, 1.5, 0.6, 1.6, -0.8, -1.9, 2.4, -1.9, 1.4, -2.4, 0.9, -1.3, 1.0, 0.4, -1.6, -1.0, -3.1, -1.4, -1.3, -2.6, -1.7, -3.3, -1.5, -0.8, 1.2, 2.9, 1.5, -1.9, -1.5, -2.7, 1.5, -1.9, -2.2, -2.0, -1.9, 1.9, 1.3, 1.8, 2.2, -2.1, -2.3, 2.1, -1.3, -0.9, -2.4, 1.1, -2.8, -0.6, -2.7, 0.1, -0.4, -0.7, -2.9, -1.7, 2.5, 1.3, -0.3, -1.2, -2.4, -2.0, 2.0, -2.1, -2.2, 0.3, 1.8, 1.6, 0.8, -0.1, -1.6, -1.6, -2.3, -1.5, 1.2, 2.0, 1.3, -1.7, 1.5, -2.6, -1.1, -2.2, -2.3, -0.3, 2.6, -2.8, 1.4, -0.8, -1.9, 1.1, -2.0, -0.7, -1.2, 1.3, -1.9, -2.0, -0.8, -1.2, 2.6, 0.9, -2.5, -1.7, 1.3, -0.4, -1.3, -0.6, -1.1, 1.6, 0.9, 2.2, 2.1, -0.5, -1.2, -1.7, 1.2, 2.3, -1.8, -2.2, 0.3, -1.0, -1.9, 2.4, -3.1, -1.9, 2.5, 2.0, 0.7, -0.7, 1.1, 1.7, -1.4, -1.7, 1.9, 2.2, 2.0, -1.0, 2.4, -3.9, 2.5, -1.7, -0.2, -1.1, 1.6, 0.7, 0.1, 1.3, 2.1, -1.7, -2.0, -2.5, -1.5, -0.7, 2.6, -1.2, -2.2, -0.6, -1.8, 1.7, 0.2, 1.3, 0.1, -1.7, 1.9, -2.2, 1.6, -1.6, 0.8, -0.1, -1.6, -1.6, -0.7, -2.8, -1.2, 1.7, 0.4, -2.3, -1.6, 2.0, -1.7, 2.3, -0.9, 2.1, 0.9, 1.8, -1.0, -0.8, -2.1, 0.8, 1.5, 0.4, -2.5, -1.6, 3.2, -1.0, -1.7, 1.8, 2.0, 0.1, -1.2, -1.5, 1.2, 1.7, 2.6, -2.1, -1.1, -2.6, 2.0, -0.5, -1.8, -1.8, 0.6, -0.8, -1.4, 0.3, -0.3, -2.7, -1.9, -0.8, -0.3, -1.4, -1.1, 2.2, -1.5, 1.3, -1.6, -1.6, 0.4, -0.6, 1.6, -2.0, -1.5, -2.3, 1.9, -0.1, -1.8, -1.3, -2.7, 1.4, -1.7, -1.8, 1.9, 2.1, 0.9, 0.1, -1.4, 2.0, 1.9, 1.4, -2.0, -0.3, -2.1, 1.7, 1.8, -0.5, -1.3, -1.4, -1.8, 3.3, -1.8, -0.8, 0.8, -1.0, -0.4, 1.1, -1.4, -1.9, 2.3, -1.3, 1.7, -2.1, -1.5, 0.1, 2.6, -2.0, -2.2, -2.2, 2.0, 0.6, -0.9, -1.6, 0.9, -0.4, 0.6, 2.1, -0.4, -1.5, -0.6, -1.0, 2.5, -0.2, -1.4, -0.6, 1.1, -1.0, 1.3, 1.1, 1.2, 0.8, 0.3, -1.2, 1.2, 2.2, -1.9, -1.9, 1.3, 1.8, -2.0, -1.2, 2.1, 1.6, 1.4, 1.6, -1.7, 1.5, -2.2, 0.2, -1.1, -2.1, -0.8, 2.1, -1.2, 2.4, 0.3, 2.3, 2.0, -1.9, -0.8, 2.1, 2.1, -2.2, -0.6, -1.2, 0.4, 1.7, -1.5, -1.4, -1.8, -1.4, -0.5, -1.9, 1.8, -2.2, 2.2, -1.6, 2.1, -0.7, -1.3, 0.3, -0.9, -2.3, 0.5, 1.6, -2.5, 1.2, -2.6, -2.0, -0.5, 1.8, -2.7, -1.1, 1.6, -2.5, -0.7, -0.8, -2.0, -2.8, -2.6, -2.3, 1.9, 1.7, -1.0, -1.2, -0.5, 1.0, 1.1, -1.9, 2.2, 1.7, -2.1, 1.1, -1.4, -3.1, 1.9, -2.0, -1.0, -2.2, -1.7, 1.4, -1.1, 1.5, -1.2, 0.2, -0.8, 1.2, 2.1, -1.5, 1.7, -0.6, -0.1, -1.1, 1.3, 1.4, -2.1, 0.2, -1.5, 1.1, -2.2, 0.6, 0.8, 1.0, 1.4, -2.1, -1.8, -1.5, 1.9, 2.2, -0.7, -1.8, 1.2, 2.1, 1.6, 1.2, -0.6, 1.8, -1.6, 1.5, -0.4, 1.0, -0.8, 1.9, -2.2, 0.8, -2.6, -1.2, -2.5, 2.6, -2.2, 1.3, 0.7, 0.4, 2.3, -3.1, 0.2, -1.2, 1.9, -1.2, -1.7, -1.6, 1.5, -2.4, 2.0, 0.6, 2.7, -2.1, -0.8, 2.3, 2.5, -1.5, -1.6, -1.1, 1.8, -1.4, -2.5, 2.4, -0.7, -0.4, 1.6, -0.3, -2.5, 2.7, -1.8, 1.7, -1.2, -1.2, -1.7, 2.3, -2.0, -1.0, -2.0, -2.7, 1.5, 1.0, 0.8, -1.4, -2.5, -1.9, -2.3, -1.6, -1.8, 1.5, 0.5, 2.1, -1.3, -1.0, -1.7, -2.7, 0.4, -0.2, -2.6, -2.3, -1.5, -1.6, -2.1, 1.3, 0.6, -0.8, -0.9, 1.6, 1.5, -0.7, 0.6, -0.7, 0.7, -1.4, -2.4, -1.4, -0.6, -2.9, 0.2, 0.8, 1.1, 1.0, -1.9, -1.3, -2.0, -0.7, -1.7, -1.4, -1.7, -1.4, 1.9, 1.3, 1.2, 0.4, -2.5, -2.0, 2.0, 2.3, -0.5, 2.3, -1.9, -3.1, 0.2, -1.7, -3.2, -1.6, 0.1, -1.3, 1.0, -0.9, -2.5, 2.2, 1.8, -3.1, -2.8, -0.4, -2.5, -1.9, -2.9, 1.0, -1.2, -2.0, -0.8, -1.8, 0.4, 1.5, 0.2, 0.5, -0.6, -1.1, 1.7, -0.8, 1.1, 0.1, -2.5, -1.9, 2.2, 0.2, 1.2, -1.7, 1.2, 0.1, -2.3, 1.5, -0.8, 2.3, 1.1, -2.6, 1.5, 0.6, -2.7, 0.1, 0.8, -2.1, 0.3, -1.0, -1.6, -1.2, -2.9, 1.4, -1.7, -2.6, -1.6, -0.2, 0.6, 0.3, -2.1, -2.5, 0.8, 2.2, 1.7, -1.9, -0.1, 1.1, -0.8, 1.1, 1.2, -0.6, 0.8, -1.7, -1.5, -0.6, -1.9, -0.6, -0.9, 2.0, 1.9, -0.4, 2.1, 0.9, -1.2, -1.8, 1.6, -0.9, -3.4, -1.5, -2.8, -0.8, -0.6, -2.3, 2.1, -0.3, -1.7, -1.0, -1.5, -2.1, 1.7, 2.4, 1.7, 0.4, 0.4, -0.3, 1.9, -0.6, -2.2, -1.7, -2.8, -2.0, -2.2, 1.2, -1.9, -1.0, -2.8, -1.7, 2.0, -1.1, 1.3, 2.3, -2.0, -1.9, 0.8, -1.5, -1.6, -1.5, 0.5, -1.5, -0.4, 1.7, -1.5, 0.2, -1.4, 0.4, -0.3, -1.5, 1.4, -1.0, 1.1, -2.5, 2.1, 2.2, -1.9, -1.8, -1.4, -1.4, 1.9, 1.3, -0.4, 1.9, 1.7, 1.6, -1.9, -1.8, 1.9, -2.7, -2.7, -2.9, 2.1, 2.3, -1.4, 1.7, -2.7, 0.1, 2.4, 1.4, 2.7, -2.7, -2.5, -1.4, -1.7, -1.7, -2.7, -1.6, -2.9, 1.9, 2.4, 1.3, -0.4, -1.3, -2.4, -2.8, 2.3, -2.6, -1.7, -1.4, -2.9, 1.6, -1.2, -2.2, 0.6, 1.2, -1.6, -2.9, 1.4, 0.6, -1.8, -1.2, 0.8, 1.7, 1.6, 1.6, -0.2, -0.7, -3.0, -1.7, -2.6, -1.1, -2.0, 0.4, -2.5, 0.4, -0.9, -2.3, -1.0, 0.5, -0.4, -1.4, 0.9, 2.1, 1.2, 2.3, 0.5, -1.2, -2.4, -1.6, 2.3, -1.7, -0.6, -1.2, -1.7, -0.3, 0.1, -2.1, 2.3, -0.7, -1.2, 1.2, -2.7, 1.8, 0.7, -1.3, -1.6, -1.3, 1.7, -1.7, -2.1, 2.1, 0.1, -2.0, -2.5, -1.6, 1.8, -1.5, 2.1, 0.7, -1.7, -2.0, -0.3, 1.2, -0.3, 1.9, 2.1, 1.5, 1.6, -1.3, -1.3, -1.7, 3.4, -0.3, -1.5, 1.6, 0.9, 1.0, 1.3, 1.9, 2.0, -1.4, -0.7, -2.2, 1.8, 0.5, -1.8, -1.9, -2.0, -2.3, 1.7, 1.9, 1.8, 2.3, 2.0, -2.9, 1.7, 1.4, -2.0, 0.8, 2.2, 0.2, -0.5, 1.6, -2.7, 1.8, 1.9, -0.3, -1.8, 2.2, 1.2, -2.0, 1.1, -1.1, -1.9, 2.2, -1.9, -1.7, -1.0, -2.8, 1.9, -3.6, 0.6, -1.0, -1.3, 1.1, -0.6, 1.7, 1.7, -1.3, -1.0, -0.9, -1.4, -1.4, 1.8, -0.2, 2.1, -1.1, -1.0, 0.9, 2.8, 2.0, 2.1, -1.6, -1.3, 2.5, -2.6, 1.6, -1.8, -1.8, 0.7, -2.7, -1.7, 2.1, 1.9, -1.6, 1.8, 2.3, 2.6, -0.7, 0.4, 1.2, -2.3, -0.5, -1.3, -1.4, -1.2, 2.0, -2.7, -1.2, 2.1, 0.3, -1.8, 1.7, 1.3, 1.7, -1.7, 2.2, -1.3, -1.6, 2.5, 1.5, -1.5, 2.2, 0.9, -1.0, 0.9, -0.3, -0.9, -1.8, 1.5, 0.5, 0.1, -1.0, -1.2, 1.7, 2.4, -1.4, -1.6, 0.9, -1.5, -0.4, -1.7, -1.2, 2.8, -1.1, 1.1, -1.6, 1.1, -1.4, 2.1, -1.5, -1.1, -0.4, 2.9, 2.2, -1.0, 2.7, -0.9, 1.4, -1.9, -0.6, -0.8, -0.6, 2.4, -1.2, 1.3, 1.1, -2.0, -2.0, 1.2, -1.1, -1.7, 1.8, -2.6, -0.8, -1.1, -1.6, -2.6, -2.8, 2.4, 1.6, 1.4, 0.1]\n",
      "[1, 1, 1, 1, 1, 1, 0, 1, 0, 1, 1, 1, 0, 1, 0, 0, 0, 0, 0, 1, 0, 1, 0, 0, 0, 0, 1, 0, 1, 0, 0, 0, 1, 1, 1, 0, 0, 1, 1, 0, 0, 0, 0, 0, 1, 1, 1, 0, 1, 1, 0, 0, 0, 1, 0, 1, 1, 1, 1, 1, 0, 0, 0, 0, 0, 0, 1, 0, 1, 0, 0, 1, 1, 0, 0, 0, 1, 1, 1, 0, 0, 1, 1, 1, 1, 0, 1, 0, 0, 1, 0, 0, 0, 0, 1, 1, 1, 1, 1, 1, 1, 1, 0, 1, 0, 0, 0, 0, 0, 1, 1, 1, 1, 1, 0, 1, 1, 0, 1, 0, 0, 0, 0, 0, 1, 0, 0, 1, 0, 1, 0, 0, 1, 0, 0, 0, 1, 1, 1, 0, 1, 0, 1, 0, 0, 0, 1, 1, 0, 0, 1, 1, 0, 0, 0, 0, 1, 1, 0, 0, 1, 0, 1, 1, 0, 0, 0, 1, 0, 0, 1, 1, 0, 1, 1, 0, 0, 1, 0, 0, 0, 1, 0, 0, 1, 1, 1, 0, 1, 0, 0, 1, 0, 0, 0, 0, 0, 1, 0, 0, 1, 1, 1, 0, 0, 1, 0, 1, 1, 0, 1, 1, 0, 0, 1, 0, 0, 0, 1, 1, 1, 0, 0, 1, 0, 0, 0, 0, 0, 0, 0, 1, 1, 1, 0, 1, 0, 0, 0, 0, 1, 0, 1, 1, 0, 0, 1, 0, 1, 0, 0, 1, 1, 0, 0, 0, 0, 1, 1, 0, 0, 1, 0, 0, 0, 1, 1, 0, 0, 0, 1, 1, 1, 1, 1, 1, 0, 1, 1, 1, 0, 0, 0, 1, 0, 1, 0, 1, 1, 1, 0, 1, 0, 0, 0, 0, 0, 0, 1, 1, 1, 0, 0, 1, 0, 0, 1, 1, 1, 0, 1, 0, 0, 1, 1, 1, 1, 1, 1, 0, 1, 0, 1, 0, 0, 1, 1, 0, 1, 0, 0, 1, 1, 0, 0, 0, 1, 1, 1, 0, 1, 0, 0, 0, 0, 1, 0, 0, 0, 0, 0, 0, 1, 1, 0, 0, 0, 0, 0, 0, 1, 1, 1, 0, 1, 0, 0, 0, 0, 0, 1, 1, 0, 1, 0, 0, 0, 1, 1, 1, 0, 0, 0, 0, 0, 1, 1, 1, 1, 0, 0, 1, 0, 1, 0, 0, 1, 1, 0, 1, 0, 1, 1, 0, 1, 0, 1, 1, 0, 0, 0, 0, 1, 0, 0, 0, 0, 1, 1, 0, 1, 1, 1, 0, 0, 0, 0, 1, 0, 0, 0, 0, 0, 0, 0, 0, 0, 1, 1, 0, 0, 0, 0, 0, 0, 0, 0, 1, 0, 1, 0, 0, 1, 1, 0, 0, 1, 1, 0, 1, 0, 1, 0, 1, 0, 0, 0, 1, 0, 1, 0, 0, 1, 1, 1, 1, 1, 1, 1, 0, 1, 0, 1, 1, 1, 1, 1, 0, 0, 0, 1, 1, 1, 1, 1, 1, 1, 0, 1, 0, 0, 1, 0, 1, 0, 0, 0, 1, 1, 1, 1, 1, 1, 0, 1, 0, 0, 0, 1, 0, 0, 0, 1, 0, 0, 0, 1, 0, 1, 0, 0, 1, 0, 0, 0, 1, 0, 0, 1, 0, 1, 1, 1, 0, 0, 0, 1, 0, 0, 1, 1, 1, 0, 0, 1, 0, 0, 1, 1, 1, 0, 0, 1, 0, 0, 0, 0, 1, 0, 1, 0, 1, 0, 0, 1, 1, 0, 0, 0, 1, 1, 0, 0, 1, 1, 0, 1, 1, 0, 1, 1, 0, 1, 1, 0, 1, 1, 1, 0, 1, 1, 1, 1, 0, 0, 0, 1, 0, 1, 0, 1, 1, 0, 0, 1, 0, 0, 0, 1, 0, 1, 1, 0, 0, 1, 0, 0, 1, 1, 1, 0, 1, 0, 1, 0, 1, 1, 0, 0, 1, 1, 1, 0, 1, 0, 0, 1, 1, 0, 0, 1, 0, 1, 0, 0, 1, 1, 0, 0, 0, 0, 0, 1, 0, 1, 0, 0, 0, 1, 1, 0, 0, 0, 1, 0, 1, 0, 0, 1, 0, 1, 1, 1, 0, 0, 0, 1, 1, 1, 0, 1, 0, 1, 1, 0, 1, 0, 0, 1, 1, 1, 0, 0, 0, 1, 0, 1, 0, 0, 1, 1, 0, 0, 0, 0, 0, 1, 1, 0, 1, 1, 1, 0, 1, 0, 0, 0, 1, 0, 1, 0, 1, 0, 0, 1, 1, 0, 0, 0, 1, 1, 1, 0, 0, 0, 0, 1, 1, 0, 1, 0, 1, 1, 1, 0, 1, 1, 1, 1, 1, 0, 0, 1, 0, 1, 0, 1, 1, 0, 1, 1, 0, 0, 0, 0, 0, 1, 1, 1, 1, 0, 0, 1, 0, 1, 0, 0, 0, 1, 0, 1, 1, 0, 1, 0, 0, 0, 0, 1, 1, 1, 1, 0, 1, 0, 0, 1, 1, 1, 1, 0, 1, 0, 1, 1, 1, 1, 0, 1, 0, 1, 0, 0, 1, 0, 0, 1, 0, 0, 0, 0, 1, 0, 0, 0, 0, 0, 0, 0, 1, 0, 1, 1, 0, 0, 0, 1, 1, 0, 0, 1, 0, 0, 1, 1, 1, 1, 0, 1, 1, 0, 1, 1, 1, 0, 0, 0, 0, 0, 1, 1, 1, 1, 0, 0, 1, 0, 0, 0, 0, 0, 0, 0, 0, 1, 1, 1, 1, 0, 0, 1, 0, 0, 1, 1, 1, 0, 1, 1, 0, 0, 0, 0, 1, 0, 1, 0, 0, 0, 0, 0, 0, 0, 1, 1, 1, 0, 1, 1, 1, 0, 1, 1, 1, 0, 0, 1, 0, 0, 0, 0, 0, 1, 0, 1, 1, 1, 1, 1, 0, 1, 0, 0, 1, 1, 1, 0, 0, 0, 1, 0, 1, 1, 0, 1, 1, 1, 0, 1, 0, 1, 1, 1, 1, 1, 0, 0, 1, 1, 1, 0, 0, 1, 1, 1, 1, 0, 1, 0, 0, 0, 1, 0, 0, 0, 1, 1, 1, 0, 0, 0, 1, 0, 1, 1, 0, 1, 0, 1, 0, 1, 1, 1, 1, 0, 0, 0, 0, 1, 0, 1, 0, 0, 0, 0, 0, 0, 0, 1, 1, 0, 1, 0, 0, 0, 0, 0, 1, 1, 0, 1, 0, 1, 1, 0, 0, 0, 0, 1, 1, 1, 0, 0, 0, 0, 0, 1, 1, 1, 0, 0, 0, 0, 1, 1, 1, 0, 1, 0, 0, 0, 1, 1, 1, 0, 0, 1, 1, 0, 0, 0, 0, 0, 0, 1, 0, 0, 1, 1, 0, 1, 1, 1, 1, 1, 0, 0, 0, 1, 0, 0, 0, 0, 0, 0, 0, 0, 1, 0, 0, 0, 1, 1, 1, 1, 1, 1, 0, 0, 0, 0, 0, 0, 0, 0, 1, 1, 0, 1, 1, 1, 1, 0, 1, 0, 0, 1, 1, 0, 0, 1, 0, 0, 1, 0, 0, 0, 0, 1, 1, 0, 0, 1, 0, 0, 0, 1, 1, 1, 0, 0, 0, 0, 0, 1, 0, 0, 0, 1, 1, 0, 1, 0, 0, 0, 1, 1, 0, 0, 1, 1, 0, 1, 1, 0, 1, 0, 0, 1, 0, 0, 0, 1, 1, 0, 1, 0, 1, 0, 0, 0, 0, 0, 1, 1, 1, 0, 0, 1, 1, 0, 0, 1, 0, 0, 0, 0, 1, 1, 1, 0, 0, 1, 1, 0, 1, 0, 1, 1, 0, 0, 1, 1, 1, 0, 1, 0, 0, 0, 0, 0, 1, 0, 1, 0, 0, 0, 0, 1, 0, 1, 0, 1, 1, 1, 0, 0, 0, 0, 1, 0, 0, 0, 1, 0, 0, 0, 0, 0, 0, 1, 0, 1, 1, 1, 0, 1, 0, 0, 0, 0, 1, 1, 1, 0, 0, 0, 0, 1, 0, 0, 1, 0, 0, 1, 0, 0, 0, 1, 0, 0, 1, 1, 1, 0, 0, 0, 0, 0, 1, 0, 1, 1, 1, 1, 1, 0, 0, 1, 0, 1, 1, 1, 1, 0, 1, 0, 0, 0, 0, 1, 0, 1, 0, 0, 0, 1, 0, 1, 0, 0, 1, 1, 0, 0, 0, 0, 0, 0, 0, 0, 0, 0, 0, 0, 0, 1, 0, 0, 1, 0, 0, 1, 1, 1, 1, 0, 1, 1, 0, 0, 0, 1, 0, 0, 1, 0, 0, 1, 0, 1, 0, 0, 0, 0, 0, 1, 1, 1, 1, 0, 1, 1, 1, 1, 0, 1, 1, 1, 0, 0, 0, 1, 0, 0, 1, 0, 0, 0, 0, 0, 1, 0, 0, 0, 0, 0, 0, 0, 0, 0, 1, 1, 0, 1, 0, 0, 1, 1, 0, 0, 0, 0, 0, 0, 1, 0, 1, 1, 0, 0, 0, 0, 1, 0, 1, 0, 1, 1, 0, 1, 1, 1, 1, 1, 1, 1, 0, 1, 0, 1, 0, 1, 0, 1, 0, 0, 1, 1, 0, 1, 1, 1, 0, 0, 1, 0, 0, 0, 1, 0, 0, 1, 0, 1, 0, 0, 0, 0, 0, 1, 1, 0, 0, 1, 0, 0, 0, 0, 0, 0, 0, 1, 1, 0, 0, 0, 0, 1, 0, 0, 1, 1, 1, 1, 1, 1, 0, 1, 1, 1, 0, 0, 0, 1, 0, 0, 0, 0, 0, 1, 0, 1, 0, 1, 1, 0, 1, 0, 1, 0, 0, 1, 0, 1, 0, 0, 1, 1, 0, 1, 0, 0, 1, 0, 1, 1, 0, 1, 0, 1, 1, 0, 1, 1, 0, 0, 0, 0, 0, 0, 1, 0, 0, 0, 0, 0, 0, 0, 1, 0, 0, 1, 1, 0, 0, 0, 0, 1, 0, 0, 1, 0, 0, 1, 0, 0, 1, 1, 0, 0, 1, 1, 1, 1, 1, 0, 1, 1, 0, 0, 1, 1, 0, 1, 0, 0, 0, 1, 0, 1, 1, 1, 0, 1, 1, 0, 1, 0, 1, 0, 0, 1, 1, 1, 0, 1, 1, 0, 0, 1, 0, 1, 1, 0, 0, 0, 0, 1, 0, 1, 1, 1, 1, 0, 1, 0, 1, 0, 1, 0, 1, 0, 0, 1, 1, 0, 0, 0, 1, 0, 1, 1, 0, 0, 0, 1, 0, 0, 0, 0, 0, 0, 1, 0, 1, 1, 1, 1, 0, 1, 1, 1, 0, 0, 0, 1, 1, 1, 0, 1, 1, 0, 1, 1, 1, 1, 0, 0, 1, 1, 0, 0, 0, 0, 0, 0, 1, 0, 1, 0, 1, 0, 0, 1, 1, 0, 1, 0, 0, 1, 0, 0, 1, 0, 0, 0, 1, 1, 0, 1, 0, 1, 0, 0, 0, 0, 1, 0, 0, 0, 0, 0, 0, 1, 0, 0, 0, 0, 1, 1, 1, 1, 1, 0, 1, 0, 1, 1, 1, 0, 0, 0, 1, 0, 0, 0, 1, 0, 1, 1, 0, 0, 1, 1, 0, 1, 0, 1, 0, 0, 0, 1, 1, 0, 0, 0, 0, 1, 0, 1, 0, 1, 0, 0, 1, 0, 1, 1, 0, 1, 0, 1, 0, 1, 1, 0, 0, 1, 0, 1, 0, 1, 0, 0, 0, 1, 0, 1, 0, 1, 0, 0, 1, 0, 0, 1, 0, 0, 0, 1, 1, 1, 1, 0, 1, 0, 0, 1, 0, 0, 1, 0, 1, 1, 1, 0, 1, 1, 1, 0, 0, 0, 0, 1, 1, 0, 1, 1, 1, 0, 0, 1, 1, 0, 1, 1, 1, 1, 1, 1, 0, 1, 0, 1, 1, 1, 0, 0, 1, 1, 1, 0, 0, 0, 1, 0, 0, 0, 1, 1, 0, 0, 0, 0, 0, 1, 1, 0, 0, 0, 1, 0, 1, 1, 1, 1, 0, 1, 0, 1, 0, 1, 0, 1, 1, 0, 1, 0, 1, 0, 1, 0, 0, 0, 1, 0, 1, 1, 0, 0, 1, 1, 0, 1, 1, 1, 0, 0, 0, 0, 1, 0, 1, 0, 0, 0, 1, 0, 0, 0, 1, 1, 0, 1, 1, 0, 0, 0, 0, 1, 1, 0, 1, 0, 1, 0, 0, 0, 0, 1, 0, 1, 0, 0, 0, 1, 0, 1, 0, 1, 0, 1, 0, 0, 1, 0, 0, 1, 1, 0, 1, 0, 0, 1, 0, 0, 0, 0, 0, 1, 0, 1, 1, 0, 0, 0, 1, 0, 0, 1, 0, 0, 1, 0, 1, 0, 1, 0, 1, 0, 1, 1, 1, 1, 0, 1, 0, 1, 0, 0, 0, 0, 1, 1, 1, 0, 0, 0, 1, 0, 1, 1, 1, 1, 0, 1, 0, 0, 0, 1, 1, 0, 1, 0, 1, 1, 1, 0, 1, 1, 0, 1, 1, 0, 0, 0, 0, 0, 1, 0, 1, 1, 1, 0, 1, 0, 1, 0, 0, 0, 1, 0, 1, 1, 0, 0, 1, 0, 1, 0, 1, 0, 0, 0, 1, 1, 0, 0, 0, 0, 1, 1, 1, 0, 1, 0, 1, 0, 1, 0, 0, 0, 1, 0, 0, 0, 1, 1, 1, 1, 0, 1, 1, 1, 1, 0, 1, 1, 1, 0, 0, 0, 0, 1, 1, 0, 1, 0, 0, 0, 0, 0, 0, 1, 1, 1, 1, 0, 1, 0, 1, 1, 0, 1, 0, 1, 0, 1, 0, 0, 0, 0, 1, 0, 0, 1, 1, 1, 0, 1, 0, 0, 1, 0, 1, 1, 1, 1, 0, 1, 0, 0, 1, 1, 1, 0, 0, 1, 0, 1, 0, 0, 1, 1, 1, 0, 0, 1, 0, 1, 1, 1, 0, 1, 0, 0, 0, 0, 0, 1, 1, 1, 0, 1, 1, 1, 0, 1, 0, 1, 0, 1, 0, 0, 0, 1, 0, 0, 0, 0, 0, 1, 0, 1, 0, 1, 1, 1, 0, 0, 1, 0, 0, 1, 0, 1, 0, 1, 1, 0, 0, 0, 0, 0, 0, 0, 0, 1, 0, 1, 0, 1, 1, 1, 0, 1, 1, 0, 1, 0, 0, 0, 0, 0, 1, 1, 0, 0, 0, 0, 1, 0, 0, 0, 1, 0, 0, 1, 0, 0, 0, 0, 0, 0, 0, 0, 0, 1, 0, 0, 0, 0, 0, 1, 1, 1, 0, 0, 1, 0, 1, 0, 1, 0, 0, 1, 0, 0, 1, 0, 0, 1, 1, 1, 0, 1, 0, 0, 0, 1, 0, 0, 1, 0, 0, 0, 0, 0, 1, 0, 1, 0, 1, 0, 1, 0, 0, 0, 0, 1, 1, 1, 0, 0, 0, 0, 0, 0, 1, 0, 1, 1, 0, 0, 0, 0, 0, 0, 0, 1, 1, 1, 0, 1, 1, 0, 0, 0, 1, 1, 1, 1, 0, 0, 0, 1, 1, 0, 0, 0, 1, 0, 1, 0, 1, 1, 1, 0, 1, 0, 1, 1, 0, 1, 1, 0, 1, 0, 1, 0, 0, 0, 0, 0, 1, 0, 1, 1, 0, 0, 0, 0, 0, 1, 1, 0, 0, 0, 0, 1, 0, 1, 0, 1, 1, 1, 1, 1, 0, 0, 0, 0, 1, 1, 0, 1, 0, 1, 1, 0, 1, 1, 0, 0, 1, 0, 0, 0, 0, 1, 1, 1, 1, 1, 0, 0, 0, 1, 1, 1, 0, 0, 1, 1, 1, 1, 0, 0, 0, 0, 0, 1, 1, 1, 0, 0, 0, 1, 0, 0, 1, 0, 1, 1, 0, 0, 0, 0, 0, 1, 0, 0, 0, 1, 1, 1, 0, 1, 1, 0, 1, 0, 1, 1, 0, 1, 0, 1, 0, 0, 1, 0, 0, 1, 1, 0, 1, 1, 0, 0, 0, 0, 1, 0, 1, 1, 1, 0, 0, 0, 1, 0, 0, 1, 0, 1, 1, 1, 0, 1, 0, 1, 0, 1, 0, 0, 0, 0, 0, 1, 0, 0, 1, 0, 1, 1, 1, 1, 0, 0, 0, 0, 1, 1, 0, 0, 0, 1, 0, 1, 0, 1, 0, 0, 1, 1, 1, 0, 1, 0, 1, 1, 0, 1, 0, 0, 0, 0, 1, 0, 1, 1, 0, 1, 1, 1, 0, 1, 1, 1, 1, 0, 1, 0, 0, 0, 1, 1, 0, 0, 0, 0, 0, 1, 0, 1, 1, 1, 0, 0, 0, 1, 1, 0, 1, 0, 1, 0, 0, 1, 0, 0, 1, 1, 0, 1, 0, 0, 0, 0, 0, 0, 0, 0, 1, 0, 0, 1, 0, 1, 0, 0, 1, 0, 1, 1, 1, 1, 1, 0, 0, 0, 1, 0, 0, 1, 1, 1, 0, 1, 1, 0, 0, 0, 0, 1, 0, 1, 1, 0, 1, 1, 1, 0, 1, 0, 1, 1, 1, 0, 0, 1, 1, 0, 1, 1, 1, 1, 0, 0, 0, 1, 0, 1, 0, 1, 0, 0, 0, 1, 0, 1, 1, 0, 0, 1, 0, 1, 0, 0, 0, 1, 0, 0, 1, 0, 0, 0, 1, 0, 0, 0, 1, 0, 1, 1, 0, 0, 1, 0, 0, 1, 0, 1, 1, 0, 1, 1, 0, 0, 1, 1, 1, 1, 1, 0, 0, 1, 1, 0, 1, 0, 0, 0, 1, 1, 0, 0, 0, 0, 1, 0, 1, 0, 1, 1, 1, 1, 0, 1, 0, 1, 0, 0, 1, 0, 1, 0, 0, 1, 0, 1, 0, 0, 0, 1, 0, 1, 0, 0, 0, 1, 0, 0, 0, 0, 0, 0, 0, 0, 1, 0, 1, 0, 0, 0, 0, 1, 0, 1, 1, 0, 1, 1, 0, 1, 0, 1, 1, 0, 0, 0, 1, 0, 0, 0, 0, 1, 0, 0, 0, 0, 1, 1, 1, 1, 0, 0, 0, 1, 1, 0, 1, 0, 1, 1, 1, 1, 0, 1, 0, 1, 0, 0, 1, 1, 0, 1, 0, 1, 1, 1, 1, 1, 1, 1, 0, 1, 1, 0, 1, 0, 1, 0, 0, 1, 0, 1, 0, 0, 1, 0, 0, 1, 1, 0, 1, 0, 0, 0, 1, 0, 1, 0, 0, 0, 0, 0, 0, 1, 0, 1, 1, 1, 1, 1, 1, 0, 1, 0, 1, 0, 0, 0, 0, 1, 1, 1, 0, 0, 0, 0, 1, 1, 0, 1, 0, 1, 1, 1, 1, 0, 1, 1, 0, 0, 0, 1, 1, 1, 1, 1, 0, 1, 1, 0, 0, 0, 0, 0, 1, 0, 0, 0, 0, 1, 0, 0, 1, 1, 0, 0, 1, 1, 1, 1, 1, 1, 1, 1, 0, 0, 1, 1, 0, 0, 1, 1, 1, 0, 0, 0, 1, 1, 1, 1, 0, 0, 0, 1, 0, 0, 0, 1, 0, 0, 1, 0, 0, 0, 1, 1, 0, 1, 0, 0, 1, 0, 0, 0, 1, 0, 0, 0, 0, 1, 0, 0, 0, 0, 0, 0, 0, 1, 0, 1, 1, 0, 0, 0, 0, 0, 1, 0, 1, 1, 0, 1, 0, 0, 0, 0, 0, 1, 1, 0, 0, 1, 1, 0, 1, 1, 1, 0, 0, 1, 0, 1, 1, 1, 1, 1, 0, 0, 0, 0, 0, 0, 1, 0, 0, 1, 1, 0, 0, 0, 1, 1, 0, 1, 1, 0, 0, 0, 1, 1, 0, 0, 0, 1, 1, 0, 1, 1, 0, 1, 0, 0, 0, 1, 0, 0, 1, 1, 0, 0, 0, 1, 1, 1, 1, 0, 0, 0, 0, 1, 1, 0, 1, 0, 0, 1, 0, 0, 1, 1, 0, 1, 0, 1, 0, 1, 0, 0, 1, 1, 0, 0, 0, 1, 0, 0, 1, 0, 1, 1, 0, 0, 0, 1, 0, 1, 0, 0, 0, 1, 1, 1, 1, 0, 0, 1, 0, 0, 0, 0, 1, 1, 0, 1, 0, 1, 0, 1, 0, 1, 1, 0, 0, 0, 1, 1, 0, 1, 0, 0, 1, 0, 0, 0, 0, 0, 1, 1, 1, 0, 0, 0, 1, 1, 1, 1, 1, 1, 1, 1, 1, 1, 0, 0, 1, 0, 1, 0, 0, 1, 0, 0, 0, 0, 1, 1, 0, 1, 1, 1, 0, 1, 1, 0, 1, 0, 0, 0, 1, 0, 0, 1, 0, 0, 1, 0, 1, 0, 1, 1, 1, 1, 1, 0, 0, 0, 1, 1, 0, 0, 0, 1, 0, 0, 0, 1, 0, 0, 1, 1, 1, 1, 1, 0, 1, 0, 0, 0, 0, 1, 0, 0, 1, 1, 1, 1, 0, 1, 0, 1, 0, 0, 0, 1, 1, 0, 0, 0, 0, 0, 1, 1, 0, 1, 0, 1, 1, 1, 1, 1, 0, 0, 1, 1, 1, 1, 0, 1, 1, 0, 1, 1, 0, 0, 0, 1, 1, 0, 0, 1, 0, 0, 1, 1, 0, 0, 1, 1, 0, 1, 0, 1, 0, 1, 0, 1, 1, 0, 0, 0, 1, 1, 0, 1, 0, 1, 0, 0, 1, 1, 0, 0, 0, 0, 1, 1, 1, 1, 0, 0, 1, 1, 0, 0, 1, 0, 1, 0, 0, 1, 0, 1, 1, 0, 1, 0, 0, 1, 0, 0, 1, 0, 1, 0, 1, 0, 1, 1, 0, 0, 0, 0, 0, 1, 0, 0, 0, 1, 1, 1, 0, 1, 1, 1, 0, 0, 0, 1, 1, 0, 0, 1, 1, 0, 0, 1, 1, 0, 1, 0, 1, 1, 1, 1, 0, 0, 1, 0, 1, 0, 0, 0, 1, 1, 0, 1, 0, 1, 0, 0, 1, 0, 1, 0, 0, 1, 0, 0, 1, 0, 1, 1, 0, 0, 1, 0, 1, 1, 0, 1, 1, 0, 1, 0, 1, 0, 1, 1, 1, 0, 0, 1, 1, 1, 0, 1, 1, 1, 0, 0, 1, 1, 1, 1, 0, 0, 0, 1, 1, 0, 0, 1, 1, 0, 0, 0, 1, 0, 0, 0, 0, 0, 1, 0, 0, 0, 0, 1, 0, 1, 1, 0, 0, 1, 0, 1, 1, 0, 0, 0, 1, 1, 1, 0, 1, 0, 0, 0, 1, 1, 1, 0, 1, 1, 1, 0, 0, 1, 0, 1, 1, 0, 1, 0, 0, 1, 0, 1, 0, 0, 0, 0, 1, 1, 0, 0, 0, 1, 0, 0, 0, 1, 0, 1, 0, 0, 1, 0, 1, 1, 1, 0, 0, 0, 0, 0, 0, 1, 1, 1, 1, 0, 0, 1, 1, 0, 0, 0, 1, 1, 1, 1, 0, 0, 1, 1, 1, 0, 0, 1, 0, 1, 1, 1, 1, 0, 0, 0, 0, 0, 0, 0, 0, 0, 1, 0, 1, 0, 1, 0, 1, 0, 0, 0, 1, 1, 0, 0, 1, 0, 1, 1, 0, 0, 1, 0, 0, 0, 1, 1, 1, 1, 0, 0, 1, 0, 0, 0, 0, 0, 1, 0, 0, 0, 0, 0, 0, 0, 0, 0, 0, 1, 0, 0, 0, 0, 1, 0, 0, 0, 0, 0, 0, 1, 1, 0, 0, 1, 1, 0, 1, 0, 1, 0, 0, 1, 0, 1, 0, 1, 0, 0, 1, 1, 1, 0, 0, 0, 0, 0, 1, 1, 0, 0, 1, 1, 0, 0, 1, 1, 0, 0, 0, 0, 1, 0, 0, 1, 0, 1, 0, 1, 1, 0, 1, 1, 0, 1, 1, 0, 0, 0, 1, 0, 1, 0, 1, 1, 0, 0, 0, 1, 1, 1, 1, 0, 1, 1, 1, 1, 0, 0, 1, 1, 1, 1, 0, 0, 0, 0, 0, 0, 0, 0, 0, 1, 0, 0, 1, 1, 0, 0, 1, 0, 0, 1, 1, 0, 0, 0, 1, 1, 0, 0, 1, 0, 1, 1, 0, 1, 1, 0, 1, 0, 0, 1, 0, 1, 0, 1, 0, 1, 0, 0, 1, 1, 1, 1, 1, 1, 0, 0, 0, 0, 0, 1, 0, 1, 0, 0, 1, 1, 0, 0, 0, 1, 0, 1, 1, 1, 1, 0, 1, 1, 1, 0, 1, 1, 1, 1, 0, 0, 1, 0, 0, 0, 1, 0, 1, 0, 0, 0, 1, 0, 0, 0, 1, 0, 1, 0, 1, 1, 1, 0, 0, 1, 1, 1, 0, 0, 0, 0, 1, 0, 0, 0, 1, 0, 0, 0, 1, 0, 1, 0, 1, 0, 0, 0, 0, 1, 0, 1, 1, 1, 1, 1, 0, 0, 1, 1, 0, 0, 1, 0, 1, 1, 0, 0, 0, 1, 1, 0, 0, 1, 0, 1, 1, 1, 0, 0, 1, 0, 0, 0, 1, 1, 0, 1, 0, 0, 0, 0, 0, 0, 0, 1, 0, 0, 1, 0, 1, 1, 1, 0, 0, 0, 1, 1, 1, 0, 1, 0, 0, 1, 0, 0, 1, 0, 0, 1, 0, 1, 1, 0, 1, 1, 1, 0, 0, 0, 1, 0, 1, 1, 0, 1, 0, 0, 1, 1, 0, 0, 1, 0, 1, 0, 0, 1, 0, 0, 0, 0, 0, 1, 0, 1, 0, 1, 1, 1, 1, 1, 1, 1, 1, 1, 0, 0, 0, 0, 1, 0, 1, 0, 0, 0, 0, 0, 0, 0, 0, 0, 0, 0, 0, 0, 1, 1, 1, 0, 0, 1, 1, 0, 0, 1, 1, 0, 1, 1, 1, 1, 1, 1, 1, 1, 0, 0, 0, 0, 0, 0, 1, 1, 0, 1, 1, 1, 0, 0, 0, 1, 1, 0, 0, 0, 0, 1, 0, 0, 0, 1, 0, 1, 0, 1, 0, 0, 0, 1, 1, 0, 1, 0, 1, 0, 1, 0, 0, 1, 1, 0, 1, 1, 1, 1, 1, 1, 1, 1, 0, 1, 1, 0, 1, 1, 1, 0, 1, 0, 0, 0, 0, 0, 0, 1, 0, 0, 0, 0, 1, 0, 1, 0, 1, 0, 1, 1, 1, 0, 0, 0, 1, 0, 0, 1, 0, 1, 0, 0, 0, 0, 0, 0, 0, 0, 0, 1, 1, 0, 0, 1, 1, 1, 1, 0, 1, 0, 0, 1, 1, 1, 0, 0, 0, 1, 1, 0, 0, 0, 0, 0, 0, 0, 1, 0, 1, 1, 1, 1, 1, 1, 0, 0, 0, 0, 0, 1, 0, 1, 1, 0, 0, 0, 0, 1, 0, 1, 0, 0, 1, 1, 0, 1, 1, 0, 1, 1, 0, 0, 0, 1, 0, 0, 1, 1, 0, 0, 1, 1, 0, 0, 1, 1, 1, 0, 1, 1, 1, 0, 1, 0, 0, 0, 0, 0, 0, 1, 1, 1, 1, 0, 0, 1, 0, 0, 0, 1, 0, 0, 0, 1, 0, 1, 0, 0, 1, 1, 1, 0, 0, 1, 0, 1, 0, 0, 1, 1, 0, 1, 0, 0, 0, 1, 0, 1, 1, 1, 0, 1, 1, 0, 1, 1, 0, 0, 1, 0, 0, 0, 0, 0, 1, 0, 1, 0, 1, 1, 0, 1, 1, 0, 1, 1, 0, 0, 0, 0, 0, 0, 1, 0, 0, 0, 0, 1, 0, 0, 0, 1, 0, 1, 0, 0, 0, 0, 0, 1, 1, 1, 0, 1, 1, 1, 0, 1, 1, 0, 1, 1, 0, 0, 0, 1, 0, 1, 0, 1, 0, 0, 1, 1, 0, 0, 0, 1, 1, 0, 0, 1, 1, 0, 1, 1, 0, 1, 1, 1, 1, 0, 0, 0, 0, 1, 0, 0, 0, 0, 1, 1, 0, 1, 0, 0, 0, 0, 1, 0, 0, 1, 1, 1, 0, 1, 0, 1, 1, 0, 1, 1, 1, 1, 1, 1, 0, 0, 1, 1, 0, 0, 1, 1, 0, 1, 1, 0, 0, 1, 0, 1, 0, 0, 1, 1, 0, 0, 0, 0, 1, 0, 0, 0, 0, 0, 1, 0, 1, 0, 1, 1, 1, 1, 0, 0, 0, 0, 0, 1, 1, 1, 0, 0, 1, 1, 0, 1, 1, 0, 0, 0, 0, 0, 0, 1, 0, 0, 1, 1, 0, 0, 0, 0, 0, 1, 0, 0, 0, 0, 0, 0, 1, 1, 1, 0, 1, 0, 0, 1, 0, 1, 1, 0, 0, 1, 1, 0, 0, 1, 0, 1, 1, 1, 1, 1, 0, 0, 0, 1, 1, 0, 1, 0, 0, 1, 0, 1, 1, 0, 0, 0, 1, 0, 0, 0, 1, 0, 0, 0, 1, 1, 0, 1, 1, 0, 0, 0, 0, 0, 1, 0, 0, 0, 0, 1, 0, 1, 0, 0, 1, 0, 1, 1, 0, 0, 0, 0, 1, 0, 1, 1, 0, 0, 0, 0, 1, 0, 0, 0, 1, 1, 1, 0, 1, 1, 0, 1, 0, 0, 0, 0, 0, 0, 0, 1, 0, 1, 0, 1, 0, 1, 1, 0, 0, 1, 1, 0, 0, 0, 0, 0, 1, 0, 1, 1, 1, 1, 0, 1, 1, 0, 1, 1, 0, 1, 0, 1, 0, 0, 1, 0, 0, 1, 1, 1, 0, 1, 1, 1, 0, 1, 1, 1, 1, 1, 1, 1, 0, 0, 0, 0, 0, 1, 1, 0, 0, 0, 0, 1, 1, 1, 1, 0, 0, 1, 0, 1, 1, 0, 1, 1, 1, 0, 1, 1, 0, 0, 0, 0, 0, 1, 1, 0, 0, 0, 0, 0, 0, 1, 0, 1, 0, 0, 0, 1, 0, 0, 1, 0, 0, 1, 0, 0, 0, 0, 0, 1, 1, 0, 0, 0, 1, 0, 0, 1, 1, 1, 0, 1, 1, 1, 1, 0, 1, 0, 0, 1, 1, 0, 1, 1, 0, 1, 0, 0, 1, 1, 0, 1, 1, 0, 1, 0, 0, 0, 0, 0, 0, 0, 1, 1, 0, 1, 1, 0, 0, 0, 0, 0, 0, 1, 0, 1, 0, 0, 1, 1, 1, 1, 1, 0, 0, 1, 1, 1, 1, 0, 1, 0, 1, 0, 1, 1, 1, 0, 1, 0, 1, 0, 1, 1, 0, 0, 0, 0, 0, 0, 0, 0, 0, 1, 1, 0, 1, 0, 1, 0, 0, 0, 1, 0, 0, 0, 1, 0, 0, 1, 0, 0, 1, 0, 1, 1, 1, 0, 0, 1, 1, 0, 1, 0, 1, 0, 1, 1, 1, 1, 1, 0, 1, 1, 1, 1, 1, 0, 1, 1, 0, 0, 0, 0, 0, 0, 1, 1, 0, 1, 1, 0, 0, 1, 0, 0, 1, 0, 0, 0, 1, 0, 1, 0, 0, 0, 0, 0, 1, 1, 0, 0, 0, 0, 0, 0, 1, 0, 1, 0, 1, 0, 1, 1, 0, 0, 0, 1, 0, 0, 0, 1, 1, 1, 0, 0, 1, 0, 1, 0, 1, 1, 0, 1, 0, 0, 1, 0, 0, 0, 1, 1, 1, 1, 0, 0, 0, 0, 1, 0, 1, 0, 0, 0, 1, 1, 0, 1, 0, 1, 0, 1, 0, 1, 1, 1, 1, 0, 0, 1, 1, 0, 1, 1, 0, 1, 1, 1, 0, 0, 0, 0, 0, 0, 0, 0, 0, 1, 1, 0, 1, 1, 1, 1, 1, 0, 0, 0, 1, 0, 0, 0, 1, 1, 1, 1, 1, 1, 1, 1, 0, 1, 0, 0, 0, 0, 0, 1, 1, 1, 1, 0, 0, 0, 0, 1, 1, 1, 0, 0, 1, 0, 1, 0, 1, 0, 1, 1, 0, 0, 0, 0, 0, 0, 0, 0, 0, 0, 1, 1, 1, 0, 0, 0, 1, 0, 0, 0, 0, 1, 1, 1, 1, 0, 0, 1, 0, 0, 0, 1, 0, 0, 0, 1, 0, 0, 0, 0, 1, 1, 0, 0, 0, 0, 1, 0, 0, 1, 1, 1, 1, 0, 0, 0, 0, 0, 1, 1, 1, 0, 1, 0, 0, 0, 0, 0, 1, 0, 1, 0, 0, 1, 0, 0, 0, 1, 0, 0, 0, 0, 1, 1, 0, 0, 1, 0, 0, 0, 0, 1, 1, 1, 1, 0, 0, 0, 1, 1, 0, 0, 1, 0, 0, 1, 0, 0, 1, 1, 1, 0, 1, 1, 0, 0, 1, 1, 1, 0, 1, 0, 1, 0, 0, 0, 1, 1, 1, 1, 1, 0, 0, 0, 0, 0, 1, 0, 0, 0, 0, 1, 1, 1, 1, 0, 1, 0, 1, 0, 1, 0, 0, 0, 0, 0, 0, 1, 1, 0, 0, 1, 0, 1, 0, 1, 1, 1, 0, 0, 0, 1, 1, 1, 0, 0, 1, 0, 0, 1, 1, 1, 0, 0, 1, 1, 1, 0, 0, 0, 1, 0, 0, 0, 1, 0, 0, 1, 0, 0, 0, 0, 0, 0, 0, 1, 0, 1, 0, 0, 1, 0, 1, 0, 0, 0, 1, 0, 0, 0, 0, 1, 0, 0, 1, 1, 1, 1, 0, 1, 1, 1, 0, 0, 0, 1, 1, 0, 0, 0, 0, 1, 0, 0, 1, 0, 0, 1, 0, 0, 1, 0, 1, 0, 0, 1, 1, 0, 0, 0, 1, 1, 0, 0, 1, 0, 1, 1, 0, 0, 0, 0, 1, 0, 0, 0, 1, 0, 1, 1, 1, 1, 1, 0, 1, 1, 0, 0, 1, 1, 0, 0, 1, 1, 1, 1, 0, 1, 0, 1, 0, 0, 0, 1, 0, 1, 1, 1, 1, 0, 0, 1, 1, 0, 0, 0, 1, 1, 0, 0, 0, 0, 0, 0, 1, 0, 1, 0, 1, 0, 0, 1, 0, 0, 1, 1, 0, 1, 0, 0, 0, 1, 0, 0, 1, 0, 0, 0, 0, 0, 0, 0, 1, 1, 0, 0, 0, 1, 1, 0, 1, 1, 0, 1, 0, 0, 1, 0, 0, 0, 0, 1, 0, 1, 0, 1, 0, 1, 1, 0, 1, 0, 0, 0, 1, 1, 0, 1, 0, 1, 0, 1, 1, 1, 1, 0, 0, 0, 1, 1, 0, 0, 1, 1, 1, 1, 0, 1, 0, 1, 0, 1, 0, 1, 0, 1, 0, 0, 0, 1, 0, 1, 1, 1, 1, 0, 1, 0, 1, 0, 0, 0, 1, 0, 1, 1, 1, 0, 0, 1, 1, 0, 0, 0, 1, 0, 0, 1, 0, 0, 1, 0, 0, 1, 0, 1, 0, 0, 0, 1, 0, 0, 0, 0, 1, 1, 1, 0, 0, 0, 0, 0, 0, 1, 1, 1, 0, 0, 0, 0, 1, 0, 0, 0, 0, 0, 0, 1, 1, 0, 0, 1, 1, 0, 1, 0, 1, 0, 0, 0, 0, 0, 1, 1, 1, 1, 0, 0, 0, 0, 0, 0, 0, 0, 1, 1, 1, 1, 0, 0, 1, 1, 0, 1, 0, 0, 1, 0, 0, 0, 1, 0, 1, 0, 0, 1, 1, 0, 0, 0, 0, 0, 0, 1, 0, 0, 0, 0, 1, 1, 1, 1, 0, 0, 1, 0, 1, 1, 0, 0, 1, 1, 1, 0, 1, 1, 0, 1, 0, 1, 1, 0, 1, 1, 0, 1, 1, 0, 1, 0, 0, 0, 0, 1, 0, 0, 0, 0, 1, 1, 0, 0, 1, 1, 1, 0, 0, 1, 0, 1, 1, 0, 1, 0, 0, 0, 0, 0, 0, 1, 1, 0, 1, 1, 0, 0, 1, 0, 0, 0, 0, 0, 0, 0, 1, 0, 0, 0, 0, 0, 1, 1, 1, 1, 1, 0, 1, 0, 0, 0, 0, 0, 0, 1, 0, 0, 0, 0, 1, 0, 1, 1, 0, 0, 1, 0, 0, 0, 1, 0, 0, 1, 0, 1, 0, 1, 0, 0, 1, 0, 1, 0, 1, 1, 0, 0, 0, 0, 1, 1, 0, 1, 1, 1, 0, 0, 1, 0, 0, 0, 1, 1, 0, 1, 0, 1, 1, 1, 1, 0, 0, 0, 0, 0, 0, 0, 0, 1, 1, 1, 0, 0, 0, 0, 1, 0, 0, 0, 0, 1, 0, 0, 1, 1, 0, 0, 1, 1, 0, 0, 1, 1, 1, 1, 0, 0, 0, 0, 0, 0, 0, 1, 0, 1, 0, 0, 0, 1, 0, 0, 1, 1, 1, 1, 1, 0, 0, 0, 1, 0, 0, 0, 0, 0, 1, 0, 1, 0, 0, 1, 0, 1, 1, 0, 0, 0, 1, 0, 0, 1, 1, 0, 0, 0, 1, 0, 1, 1, 0, 0, 0, 1, 0, 1, 1, 1, 1, 0, 0, 0, 1, 0, 0, 1, 1, 1, 1, 1, 1, 0, 0, 0, 1, 1, 0, 0, 0, 0, 1, 1, 1, 1, 1, 0, 1, 1, 0, 1, 1, 1, 0, 1, 0, 1, 1, 0, 0, 1, 1, 0, 1, 0, 0, 1, 0, 0, 0, 0, 1, 0, 1, 0, 0, 1, 0, 1, 1, 0, 0, 0, 0, 0, 1, 0, 1, 0, 0, 1, 1, 1, 1, 0, 0, 1, 0, 1, 0, 0, 1, 0, 0, 1, 1, 0, 1, 1, 1, 0, 1, 1, 0, 0, 0, 0, 0, 1, 0, 0, 1, 1, 0, 1, 1, 1, 0, 1, 0, 0, 1, 1, 0, 1, 1, 0, 1, 0, 0, 0, 1, 1, 1, 0, 0, 1, 1, 0, 0, 1, 0, 0, 0, 0, 1, 0, 1, 0, 1, 0, 1, 0, 0, 0, 1, 1, 0, 1, 0, 1, 0, 0, 0, 0, 1, 0, 1, 1, 0, 0, 1, 0, 0, 1, 0, 0, 0, 0, 0, 0, 1, 1, 1, 1]\n"
     ]
    }
   ],
   "source": [
    "print(train[\"sentiment\"].to_list())\n",
    "print(y)"
   ]
  },
  {
   "cell_type": "markdown",
   "metadata": {},
   "source": [
    "Now we have our labels for training, and we can start selecting what features to use to predict the sentiment of the words. I'm going to use the ```glove``` embeddings from earlier, but feel free to use any other embeddings or features you think will work well."
   ]
  },
  {
   "cell_type": "code",
   "execution_count": 6,
   "metadata": {},
   "outputs": [],
   "source": [
    "embeddings = gensim.downloader.load(\"glove-wiki-gigaword-300\")"
   ]
  },
  {
   "cell_type": "markdown",
   "metadata": {},
   "source": [
    "Some words are not in the embedding model vocabulary, so we need to decide how to represent them instead. I'm going to use a zero vector, but another common approach is to use the average of the embeddings of all other words (mean imputation)."
   ]
  },
  {
   "cell_type": "code",
   "execution_count": 7,
   "metadata": {},
   "outputs": [],
   "source": [
    "features = [embeddings[r[\"word\"]] if r[\"word\"] in embeddings.index_to_key else np.zeros(shape=300) for i, r in train.iterrows()]"
   ]
  },
  {
   "cell_type": "code",
   "execution_count": 8,
   "metadata": {},
   "outputs": [],
   "source": [
    "features"
   ]
  },
  {
   "cell_type": "markdown",
   "metadata": {},
   "source": [
    "Now we just need to transform the features to a format that the classifier can use. I'm going to use a simple logistic regression model from ```sklearn```, but you can use any other classifier you think will work well."
   ]
  },
  {
   "cell_type": "code",
   "execution_count": 12,
   "metadata": {},
   "outputs": [],
   "source": [
    "X = np.array(features)"
   ]
  },
  {
   "cell_type": "code",
   "execution_count": 13,
   "metadata": {},
   "outputs": [],
   "source": [
    "clf = LogisticRegression(random_state=42)"
   ]
  },
  {
   "cell_type": "markdown",
   "metadata": {},
   "source": [
    "Once you have specified your model, you can fit it to the training data."
   ]
  },
  {
   "cell_type": "code",
   "execution_count": null,
   "metadata": {},
   "outputs": [],
   "source": [
    "clf.fit(X, y)"
   ]
  },
  {
   "cell_type": "markdown",
   "metadata": {},
   "source": [
    "The class has a ```score()``` method that takes features and true labels and returns an accuracy score. It uses the fitted model to predict labels based on the features and compares them to the true labels."
   ]
  },
  {
   "cell_type": "code",
   "execution_count": null,
   "metadata": {},
   "outputs": [],
   "source": [
    "clf.score(X, y)"
   ]
  },
  {
   "cell_type": "markdown",
   "metadata": {},
   "source": [
    "Now you have a sentiment classifier! If there indeed is a strong relationship between the sentiment of a word and its embedding, the relationships learned during training should generalise to the test set, which we will test next week.\n",
    "\n",
    "For now, you can iterately improve the model by tweaking different parts of the pipeline, and reevaluating the performance on the training set. Here are some parameters you can try to change:\n",
    "\n",
    "- try embedding models trained on different data (e.g., you can get an overview of different embeddings models that are available through the gensim api by running ```gensim.downloader.info()[\"models\"].keys()```)\n",
    "- try mean imputation\n",
    "- try to change the parameters of the model (you can find an overview of the parameters in the [sklearn documentation](\"https://scikit-learn.org/stable/modules/generated/sklearn.linear_model.LogisticRegression.html\"))\n",
    "- try different models (you can find an overview of the sklearn supervised learning library [here](\"https://scikit-learn.org/stable/supervised_learning.html\"))\n",
    "- try to use the continuous sentiment scores as labels - can you get similar performance? (why/why not?)"
   ]
  }
 ],
 "metadata": {
  "kernelspec": {
   "display_name": "nlp",
   "language": "python",
   "name": "python3"
  },
  "language_info": {
   "codemirror_mode": {
    "name": "ipython",
    "version": 3
   },
   "file_extension": ".py",
   "mimetype": "text/x-python",
   "name": "python",
   "nbconvert_exporter": "python",
   "pygments_lexer": "ipython3",
   "version": "3.10.14"
  }
 },
 "nbformat": 4,
 "nbformat_minor": 2
}
